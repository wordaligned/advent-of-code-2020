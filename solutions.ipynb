{
 "cells": [
  {
   "cell_type": "markdown",
   "metadata": {},
   "source": [
    "# [Advent of Code 2020](https://adventofcode.com/2020)\n",
    "I'm going to have a go at the Advent of Code using a Jupyter Notebook. First, we'll import some modules."
   ]
  },
  {
   "cell_type": "code",
   "execution_count": 1,
   "metadata": {},
   "outputs": [],
   "source": [
    "# Standard imports\n",
    "import cmath\n",
    "import collections as cs\n",
    "import functools\n",
    "import itertools as its\n",
    "import math\n",
    "import numbers\n",
    "import operator as ops\n",
    "import re\n",
    "\n",
    "# Non-standard imports\n",
    "import matplotlib.pyplot as plt\n",
    "import numpy as np\n",
    "import networkx as nx\n",
    "import graphviz as gv"
   ]
  },
  {
   "cell_type": "markdown",
   "metadata": {},
   "source": [
    "Next, some helper functions."
   ]
  },
  {
   "cell_type": "code",
   "execution_count": 2,
   "metadata": {},
   "outputs": [],
   "source": [
    "def day(day):\n",
    "    'Load the input for `day`'\n",
    "    return open(f'input/{day}').read()\n",
    "\n",
    "flatten = its.chain.from_iterable\n",
    "cat = ''.join\n",
    "ncat = '\\n'.join\n",
    "first = ops.itemgetter(0)\n",
    "second = ops.itemgetter(1)\n",
    "\n",
    "def last(xs):\n",
    "    'Return the last element of an iterable sequence'\n",
    "    return cs.deque(iter(xs), maxlen=1)[0]\n",
    "\n",
    "def ints(s):\n",
    "    'Return a tuple of integer tokens in `s`'\n",
    "    return tuple(int(x) for x in re.findall(r'[-+]?\\d+', s))\n",
    "\n",
    "def nth(xs, n):\n",
    "    'Return the nth element of a sequence.'\n",
    "    return next(its.islice(xs, n, None))\n",
    "\n",
    "def take(xs, n=None):\n",
    "    'Return (up to) first `n` items of a sequence or the whole sequence if `n` is `None`'\n",
    "    return list(its.islice(xs, n))\n",
    "\n",
    "def overlapping(xs, n):\n",
    "    '''Generate overlapping n-tuples from `xs`\n",
    "\n",
    "    overlapping('ABCDEFG', 3) --> ABC BCD CDE DEF EFG\n",
    "    '''\n",
    "    if isinstance(xs, cs.abc.Sequence):\n",
    "        yield from (xs[i:i+n] for i in range(len(xs) + 1 - n))\n",
    "    else:\n",
    "        result = cs.deque(maxlen=n)\n",
    "        for x in xs:\n",
    "            result.append(x)\n",
    "            if len(result) == n:\n",
    "                yield tuple(result)\n",
    "                \n",
    "def pairwise(iterable):\n",
    "    's -> (s0,s1), (s1,s2), (s2, s3), ...'\n",
    "    return overlapping(iterable, 2)\n",
    "\n",
    "def powerset(xs):\n",
    "    \"powerset([1,2,3]) --> () (1,) (2,) (3,) (1,2) (1,3) (2,3) (1,2,3)\"\n",
    "    s = list(xs)\n",
    "    return flatten(its.combinations(s, r) for r in range(len(s)+1))\n",
    "\n",
    "def manhattan_distance(P, Q=None):\n",
    "    'Return the city block distance from `P` to `Q`'\n",
    "    if isinstance(P, numbers.Number):\n",
    "        d = P if Q is None else P-Q \n",
    "        return math.fabs(d.real) + math.fabs(d.imag)\n",
    "    elif Q is None:\n",
    "        return sum(math.fabs(p) for p in P)\n",
    "    else:\n",
    "        return sum(math.fabs(p-q) for p,q in zip(P, Q))\n",
    "\n",
    "def neighbours4(*v):\n",
    "    'Return the horizontal and vertical neighbours of `(x, y)`'\n",
    "    if len(v) == 1:\n",
    "        c = v[0]\n",
    "        return c-1j, c+1, c+1j, c-1\n",
    "    else:\n",
    "        x, y = v\n",
    "        return (x,y-1),(x-1,y),(x+1,y),(x,y+1)\n",
    "\n",
    "def neighbours8(x, y):\n",
    "    'Return the horizontal, vertical and diagonal neighbours of `(x, y)`'\n",
    "    return ((x-1,y-1),(x-1,y),(x-1,y+1),\n",
    "            (x,y-1),          (x,y+1),\n",
    "            (x+1,y-1),(x+1,y),(x+1,y+1))"
   ]
  },
  {
   "cell_type": "markdown",
   "metadata": {},
   "source": [
    "## Day 1: [Report Repair](https://adventofcode.com/2020/day/1)\n",
    "\n",
    "Given a list of numbers, find the product of the pair which sum to 2020"
   ]
  },
  {
   "cell_type": "code",
   "execution_count": 3,
   "metadata": {},
   "outputs": [
    {
     "data": {
      "text/plain": [
       "776064"
      ]
     },
     "execution_count": 3,
     "metadata": {},
     "output_type": "execute_result"
    }
   ],
   "source": [
    "pair = next(p for p in its.combinations(ints(day(1)), 2) if sum(p) == 2020)\n",
    "math.prod(pair)"
   ]
  },
  {
   "cell_type": "markdown",
   "metadata": {},
   "source": [
    "For part two, we're asked for a triple rather than a pair."
   ]
  },
  {
   "cell_type": "code",
   "execution_count": 4,
   "metadata": {},
   "outputs": [
    {
     "data": {
      "text/plain": [
       "6964490"
      ]
     },
     "execution_count": 4,
     "metadata": {},
     "output_type": "execute_result"
    }
   ],
   "source": [
    "triple = next(t for t in its.combinations(ints(day(1)), 3) if sum(t) == 2020)\n",
    "math.prod(triple)"
   ]
  },
  {
   "cell_type": "markdown",
   "metadata": {},
   "source": [
    "## Day 2: [Password Philosophy](https://adventofcode.com/2020/day/2)\n",
    "\n",
    "We are asked to count valid passwords given a list of password specifications in the form:\n",
    "```\n",
    "1-3 a: abcde\n",
    "1-3 b: cdefg\n",
    "2-9 c: ccccccccc\n",
    "```\n"
   ]
  },
  {
   "cell_type": "code",
   "execution_count": 5,
   "metadata": {},
   "outputs": [
    {
     "data": {
      "text/plain": [
       "515"
      ]
     },
     "execution_count": 5,
     "metadata": {},
     "output_type": "execute_result"
    }
   ],
   "source": [
    "# For part one, a password is valid if the frequency of the character \n",
    "# specified lies in the range specified\n",
    "# E.g. `1-3 a: abcde` is fine since `a` appears once\n",
    "spec_match = re.compile('(\\d+)-(\\d+) (\\w): (\\w+)$').match\n",
    "    \n",
    "def valid_password(spec):\n",
    "    lo, hi, ch, pw = spec_match(spec).group(1, 2, 3, 4)\n",
    "    return int(lo) <= pw.count(ch) <= int(hi)\n",
    "\n",
    "assert valid_password('1-3 a: abcde')\n",
    "assert not valid_password('1-3 b: cdefg')\n",
    "assert valid_password('2-9 c: ccccccccc')\n",
    "\n",
    "sum(valid_password(spec) for spec in day(2).splitlines())"
   ]
  },
  {
   "cell_type": "code",
   "execution_count": 6,
   "metadata": {},
   "outputs": [
    {
     "data": {
      "text/plain": [
       "711"
      ]
     },
     "execution_count": 6,
     "metadata": {},
     "output_type": "execute_result"
    }
   ],
   "source": [
    "# For part two, the numbers in the password spec are 1-based indices\n",
    "# into the password, which is valid if exactly one of the characters \n",
    "# at these indices is the one specified.\n",
    "def valid_password(spec):\n",
    "    lo, hi, ch, pw = spec_match(spec).group(1, 2, 3, 4)\n",
    "    return (pw[int(lo)-1] == ch) ^ (pw[int(hi)-1] == ch)\n",
    "\n",
    "assert valid_password('1-3 a: abcde')\n",
    "assert not valid_password('1-3 b: cdefg')\n",
    "assert not valid_password('2-9 c: ccccccccc')\n",
    "\n",
    "sum(valid_password(spec) for spec in day(2).splitlines())"
   ]
  },
  {
   "cell_type": "markdown",
   "metadata": {},
   "source": [
    "## Day 3: [Toboggan Trajectory](https://adventofcode.com/2020/day/3)\n",
    "\n",
    "Trees are the `#` in a grid as shown in the example. The grid tiles repeatedly to the right. \n",
    "\n",
    "```\n",
    "..##.......\n",
    "#...#...#..\n",
    ".#....#..#.\n",
    "..#.#...#.#\n",
    ".#...##..#.\n",
    "..#.##.....\n",
    ".#.#.#....#\n",
    ".#........#\n",
    "#.##...#...\n",
    "#...##....#\n",
    ".#..#...#.#\n",
    "```\n",
    "\n",
    "Starting at the top-left corner of your map and following a slope of right 3 and down 1, how many trees would you encounter?"
   ]
  },
  {
   "cell_type": "code",
   "execution_count": 7,
   "metadata": {},
   "outputs": [
    {
     "data": {
      "text/plain": [
       "207"
      ]
     },
     "execution_count": 7,
     "metadata": {},
     "output_type": "execute_result"
    }
   ],
   "source": [
    "def steps(step):\n",
    "    return zip(its.count(0, step[0]), its.count(0, step[1]))\n",
    "\n",
    "def load_trees(data):\n",
    "    return [[ch=='#' for ch in row] for row in data.splitlines()]\n",
    "\n",
    "def count_trees_hit(trees, step=(3, 1)):\n",
    "    depth, stride = len(trees), len(trees[0])\n",
    "    return sum(trees[p[1]][p[0] % stride] \n",
    "               for p in its.takewhile(lambda p: p[1] < depth, steps(step)))\n",
    "\n",
    "example3 = '''\\\n",
    "..##.......\n",
    "#...#...#..\n",
    ".#....#..#.\n",
    "..#.#...#.#\n",
    ".#...##..#.\n",
    "..#.##.....\n",
    ".#.#.#....#\n",
    ".#........#\n",
    "#.##...#...\n",
    "#...##....#\n",
    ".#..#...#.#\n",
    "'''\n",
    "\n",
    "assert count_trees_hit(load_trees(example3)) == 7\n",
    "count_trees_hit(load_trees(day(3)))"
   ]
  },
  {
   "cell_type": "markdown",
   "metadata": {},
   "source": [
    "For part two, we parametrise the step. We're asked how many trees are hit using a number of different step patterns, and to multiply these figures to produce a final answer."
   ]
  },
  {
   "cell_type": "code",
   "execution_count": 8,
   "metadata": {},
   "outputs": [
    {
     "data": {
      "text/plain": [
       "2655892800"
      ]
     },
     "execution_count": 8,
     "metadata": {},
     "output_type": "execute_result"
    }
   ],
   "source": [
    "step = ((1, 1), (3, 1), (5, 1), (7, 1), (1, 2))\n",
    "trees = load_trees(example3)\n",
    "assert math.prod([count_trees_hit(trees, s) for s in step]) == 336\n",
    "trees = load_trees(day(3))\n",
    "math.prod([count_trees_hit(trees, s) for s in step])"
   ]
  },
  {
   "cell_type": "markdown",
   "metadata": {},
   "source": [
    "## Day 4: [Passport Processing](https://adventofcode.com/2020/day/4)\n",
    "\n",
    "We are asked to validate a list of passports according to some subtle rules.\n",
    "For part 1, a password is valid if it has at all the required fields with the possible exception of `cid`."
   ]
  },
  {
   "cell_type": "code",
   "execution_count": 9,
   "metadata": {},
   "outputs": [
    {
     "data": {
      "text/plain": [
       "237"
      ]
     },
     "execution_count": 9,
     "metadata": {},
     "output_type": "execute_result"
    }
   ],
   "source": [
    "example4 = '''\\\n",
    "ecl:gry pid:860033327 eyr:2020 hcl:#fffffd\n",
    "byr:1937 iyr:2017 cid:147 hgt:183cm\n",
    "\n",
    "iyr:2013 ecl:amb cid:350 eyr:2023 pid:028048884\n",
    "hcl:#cfa07d byr:1929\n",
    "\n",
    "hcl:#ae17e1 iyr:2013\n",
    "eyr:2024\n",
    "ecl:brn pid:760753108 byr:1931\n",
    "hgt:179cm\n",
    "\n",
    "hcl:#cfa07d eyr:2025 pid:166559648\n",
    "iyr:2011 ecl:brn hgt:59in'''\n",
    "\n",
    "required_fields = set('byr iyr eyr hgt hcl ecl pid'.split())\n",
    "\n",
    "def valid_passport(passport_spec):\n",
    "    fields = {w[:3] for w in passport_spec.split()}\n",
    "    return not required_fields - fields\n",
    "\n",
    "assert sum(valid_passport(pp) for pp in example4.split('\\n\\n')) == 2\n",
    "sum(valid_passport(pp) for pp in day(4).split('\\n\\n'))"
   ]
  },
  {
   "cell_type": "markdown",
   "metadata": {},
   "source": [
    "Part 2 makes the rules more complex.\n",
    "We continue to ignore the cid field, but each other field has strict rules about what values are valid for automatic validation:\n",
    "\n",
    "- byr (Birth Year) - four digits; at least 1920 and at most 2002.\n",
    "- iyr (Issue Year) - four digits; at least 2010 and at most 2020.\n",
    "- eyr (Expiration Year) - four digits; at least 2020 and at most 2030.\n",
    "- hgt (Height) - a number followed by either cm or in:\n",
    " - If cm, the number must be at least 150 and at most 193.\n",
    " - If in, the number must be at least 59 and at most 76.\n",
    "- hcl (Hair Color) - a # followed by exactly six characters 0-9 or a-f.\n",
    "- ecl (Eye Color) - exactly one of: amb blu brn gry grn hzl oth.\n",
    "- pid (Passport ID) - a nine-digit number, including leading zeroes.\n",
    "- cid (Country ID) - ignored, missing or not."
   ]
  },
  {
   "cell_type": "code",
   "execution_count": 10,
   "metadata": {},
   "outputs": [
    {
     "data": {
      "text/plain": [
       "172"
      ]
     },
     "execution_count": 10,
     "metadata": {},
     "output_type": "execute_result"
    }
   ],
   "source": [
    "def valid_year(lo, hi):\n",
    "    ys = {str(y) for y in range(lo, hi+1)}\n",
    "    return lambda y: y in ys\n",
    "\n",
    "def valid_height(h):\n",
    "    v, units = h[:-2], h[-2:]\n",
    "    try:\n",
    "        return {\n",
    "            'cm': int(v) in range(150, 194),\n",
    "            'in': int(v) in range(59, 77),\n",
    "        }[units]\n",
    "    except (KeyError, ValueError):\n",
    "        return False\n",
    "\n",
    "field_validators = {\n",
    "    'byr': valid_year(1920, 2002),\n",
    "    'iyr': valid_year(2010, 2020),\n",
    "    'eyr': valid_year(2020, 2030),\n",
    "    'hgt': valid_height,\n",
    "    'hcl': re.compile('#[0-9a-f]{6}$').match,\n",
    "    'ecl': lambda v: v in 'amb blu brn gry grn hzl oth'.split(),\n",
    "    'pid': re.compile('\\d{9}$').match,\n",
    "    'cid': lambda v: True\n",
    "}\n",
    "\n",
    "def valid_passport(passport_spec):\n",
    "    fields = {w[:3]:w[4:] for w in passport_spec.split()}\n",
    "    if required_fields - set(fields):\n",
    "        return False\n",
    "    else:\n",
    "        return all(field_validators[k](v) for k, v in fields.items())\n",
    "\n",
    "invalid_passports = '''\\\n",
    "eyr:1972 cid:100\n",
    "hcl:#18171d ecl:amb hgt:170 pid:186cm iyr:2018 byr:1926\n",
    "\n",
    "iyr:2019\n",
    "hcl:#602927 eyr:1967 hgt:170cm\n",
    "ecl:grn pid:012533040 byr:1946\n",
    "\n",
    "hcl:dab227 iyr:2012\n",
    "ecl:brn hgt:182cm pid:021572410 eyr:2020 byr:1992 cid:277\n",
    "\n",
    "hgt:59cm ecl:zzz\n",
    "eyr:2038 hcl:74454a iyr:2023\n",
    "pid:3556412378 byr:2007\n",
    "'''\n",
    "\n",
    "valid_passports = '''\\\n",
    "pid:087499704 hgt:74in ecl:grn iyr:2012 eyr:2030 byr:1980\n",
    "hcl:#623a2f\n",
    "\n",
    "eyr:2029 ecl:blu cid:129 byr:1989\n",
    "iyr:2014 pid:896056539 hcl:#a97842 hgt:165cm\n",
    "\n",
    "hcl:#888785\n",
    "hgt:164cm byr:2001 iyr:2015 cid:88\n",
    "pid:545766238 ecl:hzl\n",
    "eyr:2022\n",
    "\n",
    "iyr:2010 hgt:158cm hcl:#b6652a ecl:blu byr:1944 eyr:2021 pid:093154719\n",
    "'''\n",
    "\n",
    "assert not any(valid_passport(pp) for pp in invalid_passports.split('\\n\\n'))\n",
    "assert all(valid_passport(pp) for pp in valid_passports.split('\\n\\n'))\n",
    "\n",
    "sum(valid_passport(pp) for pp in day(4).split('\\n\\n'))"
   ]
  },
  {
   "cell_type": "markdown",
   "metadata": {},
   "source": [
    "## Day 5: [Binary Boarding](https://adventofcode.com/2020/day/5)\n",
    "\n",
    "A seat on a plane has an id of the form `FBFBBFFRLR` where `F` and `B` indicate front and back, identifying row, `L` and `R` indicate column. The seat id is found by multiplying the row by 8 then adding the column."
   ]
  },
  {
   "cell_type": "code",
   "execution_count": 11,
   "metadata": {},
   "outputs": [
    {
     "data": {
      "text/plain": [
       "987"
      ]
     },
     "execution_count": 11,
     "metadata": {},
     "output_type": "execute_result"
    }
   ],
   "source": [
    "# Convert the FBFBBFFRLR form into standard binary 0101100101 \n",
    "# This number _is_ the id\n",
    "table = str.maketrans('FBLR', '0101')\n",
    "def seat_id(boarding_pass):\n",
    "    return int(boarding_pass.translate(table), 2)\n",
    "\n",
    "assert seat_id('FBFBBFFRLR') == 357\n",
    "seats = {seat_id(p) for p in day(5).split()}\n",
    "max(seats)"
   ]
  },
  {
   "cell_type": "markdown",
   "metadata": {},
   "source": [
    "Part two asks which seat id is missing from the input, but says:\n",
    "> some of the seats at the very front and back of the plane don't exist on this aircraft, so they'll be missing from your list as well ... the seats with IDs +1 and -1 from yours will be in your list.\""
   ]
  },
  {
   "cell_type": "code",
   "execution_count": 12,
   "metadata": {},
   "outputs": [
    {
     "data": {
      "text/plain": [
       "{603}"
      ]
     },
     "execution_count": 12,
     "metadata": {},
     "output_type": "execute_result"
    }
   ],
   "source": [
    "set(range(min(seats), max(seats)+1)) - seats"
   ]
  },
  {
   "cell_type": "markdown",
   "metadata": {},
   "source": [
    "## Day 6: [Custom Customs](https://adventofcode.com/2020/day/6)\n",
    "Each person's set of answers is on a line. People are grouped. Groups are separated by a blank line. Part 1 asks us to count the number of questions anyone in a group answers \"yes\" to."
   ]
  },
  {
   "cell_type": "code",
   "execution_count": 13,
   "metadata": {},
   "outputs": [
    {
     "data": {
      "text/plain": [
       "6443"
      ]
     },
     "execution_count": 13,
     "metadata": {},
     "output_type": "execute_result"
    }
   ],
   "source": [
    "def answers(group):\n",
    "    return [set(line) for line in group.splitlines()]\n",
    "\n",
    "def total_anyone_answers_yes(all_answers):\n",
    "    return sum(len(set.union(*answers(group))) \n",
    "               for group in all_answers.split('\\n\\n'))\n",
    "\n",
    "example6 = '''\\\n",
    "abc\n",
    "\n",
    "a\n",
    "b\n",
    "c\n",
    "\n",
    "ab\n",
    "ac\n",
    "\n",
    "a\n",
    "a\n",
    "a\n",
    "a\n",
    "\n",
    "b'''\n",
    "\n",
    "assert total_anyone_answers_yes(example6) == 11\n",
    "\n",
    "total_anyone_answers_yes(day(6))"
   ]
  },
  {
   "cell_type": "markdown",
   "metadata": {},
   "source": [
    " Part 2 asks us to count the number of questions _everyone_ in a group answers \"yes\" to."
   ]
  },
  {
   "cell_type": "code",
   "execution_count": 14,
   "metadata": {},
   "outputs": [
    {
     "data": {
      "text/plain": [
       "3232"
      ]
     },
     "execution_count": 14,
     "metadata": {},
     "output_type": "execute_result"
    }
   ],
   "source": [
    "def total_everyone_answers_yes(all_answers):\n",
    "    return sum(len(set.intersection(*answers(group))) \n",
    "               for group in all_answers.split('\\n\\n'))\n",
    "\n",
    "assert total_everyone_answers_yes(example6) == 6\n",
    "total_everyone_answers_yes(day(6))"
   ]
  },
  {
   "cell_type": "markdown",
   "metadata": {},
   "source": [
    "## Day 7: [Handy Haversacks](https://adventofcode.com/2020/day/7)\n",
    "\n",
    "This looks like a graph processing puzzle. We have some luggage processing rules, and we are asked:\n",
    "> You have a shiny gold bag. If you wanted to carry it in at least one other bag, how many different bag colors would be valid for the outermost bag?"
   ]
  },
  {
   "cell_type": "code",
   "execution_count": 15,
   "metadata": {},
   "outputs": [
    {
     "data": {
      "image/png": "[encoded data removed]",
      "text/plain": [
       "<Figure size 432x288 with 1 Axes>"
      ]
     },
     "metadata": {},
     "output_type": "display_data"
    }
   ],
   "source": [
    "example7 = '''\\\n",
    "light red bags contain 1 bright white bag, 2 muted yellow bags.\n",
    "dark orange bags contain 3 bright white bags, 4 muted yellow bags.\n",
    "bright white bags contain 1 shiny gold bag.\n",
    "muted yellow bags contain 2 shiny gold bags, 9 faded blue bags.\n",
    "shiny gold bags contain 1 dark olive bag, 2 vibrant plum bags.\n",
    "dark olive bags contain 3 faded blue bags, 4 dotted black bags.\n",
    "vibrant plum bags contain 5 faded blue bags, 6 dotted black bags.\n",
    "faded blue bags contain no other bags.\n",
    "dotted black bags contain no other bags.'''\n",
    "\n",
    "find_bags = re.compile('(\\w+ \\w+) bag').findall\n",
    "\n",
    "def get_bags_graph(bag_rules):\n",
    "    G = nx.DiGraph()\n",
    "    for rule in bag_rules.splitlines():\n",
    "        bag, *bags = find_bags(rule)\n",
    "        counts = ints(rule)\n",
    "        G.add_edges_from((bag, inner, {'weight': w})\n",
    "                         for inner, w in zip(bags, counts))\n",
    "    return G\n",
    "\n",
    "def draw_bags(G):\n",
    "    pos = nx.circular_layout(G)\n",
    "    nx.draw(G, pos, with_labels=True)\n",
    "    labels = nx.get_edge_attributes(G, 'weight')\n",
    "    nx.draw_networkx_edge_labels(G, pos, edge_labels=labels)\n",
    "\n",
    "exG = get_bags_graph(example7)\n",
    "draw_bags(exG)"
   ]
  },
  {
   "cell_type": "markdown",
   "metadata": {},
   "source": [
    "The first part of the puzzle asks how many bags colours can eventually contain at least one shiny gold bag?"
   ]
  },
  {
   "cell_type": "code",
   "execution_count": 16,
   "metadata": {},
   "outputs": [
    {
     "data": {
      "text/plain": [
       "238"
      ]
     },
     "execution_count": 16,
     "metadata": {},
     "output_type": "execute_result"
    }
   ],
   "source": [
    "assert len(nx.algorithms.dag.ancestors(exG, 'shiny gold'))\n",
    "bagsG = get_bags_graph(day(7))\n",
    "len(nx.algorithms.dag.ancestors(bagsG, 'shiny gold'))"
   ]
  },
  {
   "cell_type": "markdown",
   "metadata": {},
   "source": [
    "Part two asks us to count the number of bags contained in the shiny gold bag."
   ]
  },
  {
   "cell_type": "code",
   "execution_count": 17,
   "metadata": {},
   "outputs": [
    {
     "data": {
      "text/plain": [
       "82930"
      ]
     },
     "execution_count": 17,
     "metadata": {},
     "output_type": "execute_result"
    }
   ],
   "source": [
    "@functools.lru_cache(maxsize=None)\n",
    "def count_bags(G, bag):\n",
    "    return sum(count_bags(G, b) * v['weight'] \n",
    "               for b, v in G[bag].items()) + 1\n",
    "\n",
    "assert count_bags(exG, 'shiny gold') - 1 == 32\n",
    "count_bags(bagsG, 'shiny gold') - 1"
   ]
  },
  {
   "cell_type": "markdown",
   "metadata": {},
   "source": [
    "## Day 8: [Handheld Halting](https://adventofcode.com/2020/day/8)\n",
    "Eight days in, and there's a register machine. We're asked for the accumulator value when the program enters an infinite loop."
   ]
  },
  {
   "cell_type": "code",
   "execution_count": 18,
   "metadata": {},
   "outputs": [
    {
     "data": {
      "text/plain": [
       "1563"
      ]
     },
     "execution_count": 18,
     "metadata": {},
     "output_type": "execute_result"
    }
   ],
   "source": [
    "class Program:\n",
    "    def __init__(self, listing):\n",
    "        \"Set up the program using the supplied listing\"\n",
    "        self.acc = 0\n",
    "        self.pc = 0\n",
    "        self.instructions = [\n",
    "            self.assemble(line) for line in listing.splitlines()]\n",
    "    \n",
    "    def __str__(self):\n",
    "        return f'pc: {self.pc} acc: {self.acc}'\n",
    "    \n",
    "    def assemble(self, line):\n",
    "        \"Return the opcode/value on the supplied line\"\n",
    "        return line[:3], int(line[4:])\n",
    "    \n",
    "    def run(self):\n",
    "        \"Run the program, generating the program states\"\n",
    "        while self.pc in range(len(self.instructions)):\n",
    "            yield self\n",
    "            op, v = self.instructions[self.pc]\n",
    "            if   op == 'nop': self.pc += 1\n",
    "            elif op == 'acc': \n",
    "                self.acc += v; self.pc += 1\n",
    "            elif op == 'jmp': self.pc += v\n",
    "            else: raise RuntimeError(f'invalid op {op}')\n",
    "        yield self\n",
    "\n",
    "example8 = '''\\\n",
    "nop +0\n",
    "acc +1\n",
    "jmp +4\n",
    "acc +3\n",
    "jmp -3\n",
    "acc -99\n",
    "acc +1\n",
    "jmp -4\n",
    "acc +6\n",
    "'''\n",
    "\n",
    "def break_on_loop_or_terminate(prog):\n",
    "    \"Run the program until a loop or termination detected\"\n",
    "    pcs = set()\n",
    "    for state in Program(prog).run():\n",
    "        if state.pc in pcs:\n",
    "            break\n",
    "        pcs.add(state.pc)\n",
    "    return state\n",
    "\n",
    "assert break_on_loop_or_terminate(example8).acc == 5\n",
    "break_on_loop_or_terminate(day(8)).acc"
   ]
  },
  {
   "cell_type": "markdown",
   "metadata": {},
   "source": [
    "Part two tells us the program terminates cleanly when the program counter (pc) points just past the end of the listing. We are also told an instruction has been corrupted, preventing this. We are asked to decorrupt the program and supply the accumulator value when the program terminates."
   ]
  },
  {
   "cell_type": "code",
   "execution_count": 19,
   "metadata": {},
   "outputs": [
    {
     "data": {
      "text/plain": [
       "767"
      ]
     },
     "execution_count": 19,
     "metadata": {},
     "output_type": "execute_result"
    }
   ],
   "source": [
    "def find_corruption(prog):\n",
    "    \"Swap `nop` for `jmp`, returning the state when the program terminates\"\n",
    "    N = len(prog.splitlines())\n",
    "    frags = re.split('(nop|jmp)', prog)\n",
    "    for i in range(1, len(frags), 2):\n",
    "        swap = 'nop' if frags[i]=='jmp' else 'jmp'\n",
    "        decorrupt = cat(frags[:i] + [swap] + frags[i+1:])\n",
    "        state = break_on_loop_or_terminate(decorrupt)\n",
    "        if state.pc == N:\n",
    "            return state\n",
    "        \n",
    "assert find_corruption(example8).acc == 8\n",
    "find_corruption(day(8)).acc"
   ]
  },
  {
   "cell_type": "markdown",
   "metadata": {},
   "source": [
    "## Day 9: [Encoding Error](https://adventofcode.com/2020/day/9)\n",
    "\n",
    "We're receiving eXchange-Masking Addition System (XMAS) encrypted data. The data is a stream of numbers, and each number must be the sum of a pair of the preceeding 25 numbers.\n",
    "\n",
    "We are asked to find the first number which does _not_ conform to this scheme."
   ]
  },
  {
   "cell_type": "code",
   "execution_count": 20,
   "metadata": {},
   "outputs": [
    {
     "data": {
      "text/plain": [
       "248131121"
      ]
     },
     "execution_count": 20,
     "metadata": {},
     "output_type": "execute_result"
    }
   ],
   "source": [
    "example9 = (35,20,15,25,47,40,62,55,65,95,102,117,150,182,127,219,299,277,309,576)\n",
    "\n",
    "def xmas_fail(numbers, N=25):\n",
    "    buffer = cs.deque(numbers[:N], maxlen=N)\n",
    "    for n in numbers[N:]:\n",
    "        if all(sum(p) != n for p in its.combinations(buffer, 2)):\n",
    "            return n\n",
    "        buffer.append(n)\n",
    "\n",
    "assert xmas_fail(example9, 5) == 127\n",
    "xmas_fail(ints(day(9)))"
   ]
  },
  {
   "cell_type": "markdown",
   "metadata": {},
   "source": [
    "For part 2, we have to find a contiguous set of numbers in the input which sum to the invalid number found in part 1. The encryption weakness is the sum of the smallest and largest numbers in this range."
   ]
  },
  {
   "cell_type": "code",
   "execution_count": 21,
   "metadata": {},
   "outputs": [
    {
     "data": {
      "text/plain": [
       "31580383"
      ]
     },
     "execution_count": 21,
     "metadata": {},
     "output_type": "execute_result"
    }
   ],
   "source": [
    "def running_sums(numbers):\n",
    "    \"\"\" Generate the running sums of the supplied numbers\n",
    "    \n",
    "    Yields `(s, i, j)` triples, where s is the sum of `numbers[i:j]`\n",
    "    \"\"\"\n",
    "    rsums, n = list(numbers), len(numbers)\n",
    "    for i in range(1, n):\n",
    "        for j in range(n-i):\n",
    "            rsums[j] += numbers[i+j]\n",
    "            yield rsums[j], j, i+j+1\n",
    "\n",
    "def encryption_weakness(numbers, N=25):\n",
    "    invalid_number = xmas_fail(numbers, N)\n",
    "    for rsum, i, j in running_sums(numbers):\n",
    "        if rsum == invalid_number:\n",
    "            return min(numbers[i:j]) + max(numbers[i:j])\n",
    "\n",
    "assert encryption_weakness(example9, 5) == 62\n",
    "encryption_weakness(ints(day(9)))"
   ]
  },
  {
   "cell_type": "markdown",
   "metadata": {},
   "source": [
    "## Day 10: [Adapter Array](https://adventofcode.com/2020/day/10)\n",
    "The input is a list of joltage adapters. Each adaptor is rated for a specific output `J`, and accepts an input 1, 2 or 3 less than `J`. The device to be charged has a rating of 3 higher than the largest adaptor rating. \n",
    "For part 1, we must:\n",
    "> Find a chain that uses all of your adapters to connect the charging outlet to your device's built-in adapter and count the joltage differences between the charging outlet, the adapters, and your device. What is the number of 1-jolt differences multiplied by the number of 3-jolt differences?"
   ]
  },
  {
   "cell_type": "code",
   "execution_count": 22,
   "metadata": {},
   "outputs": [
    {
     "data": {
      "text/plain": [
       "2400"
      ]
     },
     "execution_count": 22,
     "metadata": {},
     "output_type": "execute_result"
    }
   ],
   "source": [
    "example10 = '16 10 15 5 1 11 7 19 6 12 4'\n",
    "example10a = '''28 33 18 42 31 14 46 20 48 47 24 23 49 45 19 38 39 11 1 32 25\n",
    "35 8 17 7 9 4 2 34 10 3'''\n",
    "\n",
    "def count_diffs(adaptor_data):\n",
    "    ratings = sorted(ints(adaptor_data))\n",
    "    seq = [0] + ratings + [ratings[-1]+3]\n",
    "    return cs.Counter(q-p for p, q in pairwise(seq))\n",
    "\n",
    "def day10_part1(adaptor_data):\n",
    "    diffs = count_diffs(adaptor_data)\n",
    "    return diffs[1] * diffs[3]\n",
    "\n",
    "assert day10_part1(example10) == 7 * 5\n",
    "assert day10_part1(example10a) == 22 * 10\n",
    "day10_part1(day(10))"
   ]
  },
  {
   "cell_type": "markdown",
   "metadata": {},
   "source": [
    "Part 2 asks us the number of ways we can connect the charging outlet to our device. We are not required to use all the adaptors. The question hints:\n",
    "> there must be more than a trillion valid ways to arrange them!\n",
    "\n",
    "We can solve this by solving the subproblems: how many ways can we connect a subset of the (sorted) adaptors to the device. We need to use memoisation to store previously calculated results."
   ]
  },
  {
   "cell_type": "code",
   "execution_count": 23,
   "metadata": {},
   "outputs": [
    {
     "data": {
      "text/plain": [
       "338510590509056"
      ]
     },
     "execution_count": 23,
     "metadata": {},
     "output_type": "execute_result"
    }
   ],
   "source": [
    "def day10_part2(adaptor_data):\n",
    "    ratings = [0] + sorted(ints(adaptor_data))\n",
    "    N = len(ratings)\n",
    "    @functools.lru_cache(maxsize=None)\n",
    "    def subproblem(i):\n",
    "        if i == N-1:\n",
    "            return 1 # final adaptor - no choice\n",
    "        else:\n",
    "            # look at the next three items \n",
    "            return sum(subproblem(j) \n",
    "                for j in range(i+1, min(i+4, N))\n",
    "                if ratings[j] - ratings[i] <= 3)\n",
    "    return subproblem(0)\n",
    "\n",
    "assert day10_part2(example10) == 8\n",
    "assert day10_part2(example10a) == 19208\n",
    "day10_part2(day(10))"
   ]
  },
  {
   "cell_type": "markdown",
   "metadata": {},
   "source": [
    "## Day 11: [Seating System](https://adventofcode.com/2020/day/11)\n",
    "Seat occupancy in a waiting area is modelled by a finite state automata:\n",
    "- If a seat is empty (L) and there are no occupied seats adjacent to it, the seat becomes occupied.\n",
    "- If a seat is occupied (#) and four or more seats adjacent to it are also occupied, the seat becomes empty.\n",
    "- Otherwise, the seat's state does not change.\n",
    "For part 1, we are asked to apply these rules until the seat occupancy stabilised. How many seats end up occupied?"
   ]
  },
  {
   "cell_type": "code",
   "execution_count": 24,
   "metadata": {},
   "outputs": [
    {
     "data": {
      "text/plain": [
       "2412"
      ]
     },
     "execution_count": 24,
     "metadata": {},
     "output_type": "execute_result"
    }
   ],
   "source": [
    "def seat_occupancy(seat_data):\n",
    "    occupancy = {\n",
    "        (r, c): ch \n",
    "        for r, row in enumerate(seat_data.split())\n",
    "        for c, ch in enumerate(row)\n",
    "    }\n",
    "    def evolve(p):\n",
    "        c = sum(occupancy.get(n) == '#' for n in neighbours8(*p))\n",
    "        if occupancy[p] == 'L':\n",
    "            if c == 0: return '#'\n",
    "        elif occupancy[p] == '#':\n",
    "            if c >= 4: return 'L'\n",
    "        return occupancy[p]\n",
    "    while True:\n",
    "        yield occupancy\n",
    "        occupancy = {p: evolve(p) for p in occupancy}\n",
    "\n",
    "def stable_seating(seat_data):\n",
    "    prev = {}\n",
    "    for s in seat_occupancy(seat_data):\n",
    "        if s == prev:\n",
    "            return s\n",
    "        prev = s\n",
    "\n",
    "example11 = '''\\\n",
    "L.LL.LL.LL\n",
    "LLLLLLL.LL\n",
    "L.L.L..L..\n",
    "LLLL.LL.LL\n",
    "L.LL.LL.LL\n",
    "L.LLLLL.LL\n",
    "..L.L.....\n",
    "LLLLLLLLLL\n",
    "L.LLLLLL.L\n",
    "L.LLLLL.LL\n",
    "'''\n",
    "assert sum(o == '#' for o in stable_seating(example11).values()) == 37\n",
    "sum(o == '#' for o in stable_seating(day(11)).values())"
   ]
  },
  {
   "cell_type": "markdown",
   "metadata": {},
   "source": [
    "Part two changes the evolution rules: the neighbours are the next `#` or `L` seats in the eight directions, and the number used to switch from `#` to `L` for an occupied seat changes to `5`."
   ]
  },
  {
   "cell_type": "code",
   "execution_count": 25,
   "metadata": {},
   "outputs": [
    {
     "data": {
      "text/plain": [
       "2176"
      ]
     },
     "execution_count": 25,
     "metadata": {},
     "output_type": "execute_result"
    }
   ],
   "source": [
    "def seat_occupancy(seat_data):\n",
    "    occupancy = {\n",
    "        r + c * 1j: ch \n",
    "        for r, row in enumerate(seat_data.split())\n",
    "        for c, ch in enumerate(row)\n",
    "    }\n",
    "    def next_occupied(p, d):\n",
    "        steps = (p + s * d for s in its.count(1))\n",
    "        return next(c for s in steps\n",
    "                    if (c := occupancy.get(s, ' ')) in ' L#')\n",
    "    def next_seats(p):\n",
    "        dir8 = (1, 1+1j, 1j, 1j-1, -1, -1-1j, -1j, 1-1j)\n",
    "        return (next_occupied(p, d) for d in dir8)\n",
    "    def evolve(p):\n",
    "        c = sum(s == '#' for s in next_seats(p))\n",
    "        if occupancy[p] == 'L':\n",
    "            if c == 0: return '#'\n",
    "        elif occupancy[p] == '#':\n",
    "            if c >= 5: return 'L'\n",
    "        return occupancy[p]\n",
    "    while True:\n",
    "        yield occupancy\n",
    "        occupancy = {p: evolve(p) for p in occupancy}\n",
    "\n",
    "def stable_seating(seat_data):\n",
    "    prev = {}\n",
    "    for s in seat_occupancy(seat_data):\n",
    "        dump = cat(s.values())\n",
    "        if s == prev:\n",
    "            return s\n",
    "        prev = s\n",
    "\n",
    "assert sum(o == '#' for o in stable_seating(example11).values()) == 26\n",
    "sum(o == '#' for o in stable_seating(day(11)).values())"
   ]
  },
  {
   "cell_type": "markdown",
   "metadata": {},
   "source": [
    "## Day 12: [Rain Risk](https://adventofcode.com/2020/day/12)\n",
    "We follow a rectilinear route described by a series of instructions. Each instruction has an action (N, S, E, W, L, R, F) and a value, and cause the ship to move in a compass direction, turn a number of degrees, or advance in the direction it faces."
   ]
  },
  {
   "cell_type": "code",
   "execution_count": 26,
   "metadata": {},
   "outputs": [
    {
     "data": {
      "text/plain": [
       "879.0"
      ]
     },
     "execution_count": 26,
     "metadata": {},
     "output_type": "execute_result"
    }
   ],
   "source": [
    "def parse_instruction(line):\n",
    "    return line[:1], int(line[1:])\n",
    "\n",
    "def ship_position(instructions):\n",
    "    'Return the ship position after following the instructions'\n",
    "    ship, dirn = 0, 1\n",
    "    step = {'N':1j, 'W':-1, 'S':-1j, 'E': 1}\n",
    "    turn = {'R':-1j, 'L':1j}\n",
    "    for action, n in map(parse_instruction, instructions.split()):\n",
    "        ship += n * (step.get(action, 0) + (action=='F') * dirn)\n",
    "        dirn *= turn.get(action, 1) ** (n//90)\n",
    "    return ship\n",
    "\n",
    "ship = ship_position('F10 N3 F7 R90 F11')\n",
    "assert manhattan_distance(ship) == 25\n",
    "manhattan_distance(ship_position(day(12)))"
   ]
  },
  {
   "cell_type": "markdown",
   "metadata": {},
   "source": [
    "Part two reinterprets the instructions, which now indicate how to move a waypoint which is relative to the ship's position:\n",
    "- Action N means to move the waypoint north by the given value.\n",
    "- Action S means to move the waypoint south by the given value.\n",
    "- Action E means to move the waypoint east by the given value.\n",
    "- Action W means to move the waypoint west by the given value.\n",
    "- Action L means to rotate the waypoint around the ship left (counter-clockwise) the given number of degrees.\n",
    "- Action R means to rotate the waypoint around the ship right (clockwise) the given number of degrees.\n",
    "- Action F means to move forward to the waypoint a number of times equal to the given value.\n"
   ]
  },
  {
   "cell_type": "code",
   "execution_count": 27,
   "metadata": {},
   "outputs": [
    {
     "data": {
      "text/plain": [
       "18107.0"
      ]
     },
     "execution_count": 27,
     "metadata": {},
     "output_type": "execute_result"
    }
   ],
   "source": [
    "def ship_positions2(instructions):\n",
    "    'Return the ship position after following the instructions'\n",
    "    ship, waypoint, dir = 0, 10 + 1j, 1\n",
    "    step = {'N':1j, 'W':-1, 'S':-1j, 'E': 1}\n",
    "    turn = {'R':-1j, 'L':1j}\n",
    "    for action, n in map(parse_instruction, instructions.split()):\n",
    "        waypoint += n * step.get(action, 0)\n",
    "        waypoint *= turn.get(action, 1) ** (n//90)\n",
    "        ship += (action == 'F') * waypoint * n\n",
    "    return ship\n",
    "\n",
    "ship = ship_positions2('F10 N3 F7 R90 F11')\n",
    "assert manhattan_distance(ship) == 286\n",
    "manhattan_distance(ship_positions2(day(12)))"
   ]
  },
  {
   "cell_type": "markdown",
   "metadata": {},
   "source": [
    "## Day 13: [Shuttle Search](https://adventofcode.com/2020/day/13)\n",
    "Buses circle round the island. Each bus has an ID, which is also the number of minutes it takes for each circuit. Which is the first one we can take, given our arrival time?"
   ]
  },
  {
   "cell_type": "code",
   "execution_count": 28,
   "metadata": {},
   "outputs": [
    {
     "data": {
      "text/plain": [
       "3865"
      ]
     },
     "execution_count": 28,
     "metadata": {},
     "output_type": "execute_result"
    }
   ],
   "source": [
    "def shuttle_search(bus_data):\n",
    "    \"Return the ID of the first bus multiplied by the time we wait for it\"\n",
    "    arrival_time, *buses = ints(bus_data)\n",
    "    key = lambda bus: bus - arrival_time % bus\n",
    "    bus = min(buses, key=key)\n",
    "    return bus * key(bus)\n",
    "\n",
    "assert shuttle_search('939 7,13,x,x,59,x,31,19') == 295\n",
    "shuttle_search(day(13))"
   ]
  },
  {
   "cell_type": "markdown",
   "metadata": {},
   "source": [
    "Part two reinterprets the input data. The first number is ignored. We are asked to find the smallest timestamp `T` such that `T % B[i]` is `B[i] - i` for all `i` for which `B[i] != x`. \n",
    "\n",
    "Since the bus IDs look to be coprime, we can apply the Chinese remainder theorem."
   ]
  },
  {
   "cell_type": "code",
   "execution_count": 29,
   "metadata": {},
   "outputs": [
    {
     "data": {
      "text/plain": [
       "415579909629976"
      ]
     },
     "execution_count": 29,
     "metadata": {},
     "output_type": "execute_result"
    }
   ],
   "source": [
    "def chinese_remainder(ns_rs):\n",
    "    \"Return the smallest `N` such that `N % n == r` for all (n, r)\"\n",
    "    result = 0\n",
    "    product = math.prod(n for n, _ in ns_rs)\n",
    "    for n, r in ns_rs:\n",
    "        p = product // n\n",
    "        result += r * mul_inv(p, n) * p\n",
    "    return result % product\n",
    "\n",
    "def mul_inv(a, b):\n",
    "    \"Return the multiplicative inverse of a modulo b\"\n",
    "    # Find `r` such that `(a*r) % b == 1`\n",
    "    return pow(a, -1, mod=b)\n",
    "\n",
    "def earliest_timestamp(bus_data):\n",
    "    buses = bus_data.split()[1].split(',')\n",
    "    return chinese_remainder(\n",
    "        [(int(bus), int(bus) - i)\n",
    "        for i, bus in enumerate(buses) if bus != 'x'])\n",
    "\n",
    "assert earliest_timestamp('939 7,13,x,x,59,x,31,19') == 1068781\n",
    "earliest_timestamp(day(13))"
   ]
  },
  {
   "cell_type": "markdown",
   "metadata": {},
   "source": [
    "## Day 14: [Docking Data](https://adventofcode.com/2020/day/14)\n",
    "This one is all about bitwise operations. We are given a program which repeatedly sets a mask and then stores values, applying that mask."
   ]
  },
  {
   "cell_type": "code",
   "execution_count": 30,
   "metadata": {},
   "outputs": [
    {
     "data": {
      "text/plain": [
       "7440382076205"
      ]
     },
     "execution_count": 30,
     "metadata": {},
     "output_type": "execute_result"
    }
   ],
   "source": [
    "xs_bits = str.maketrans('1X', '01')\n",
    "\n",
    "def run_program(prog):\n",
    "    memory = {}\n",
    "    for line in prog.splitlines():\n",
    "        if line.startswith('mask'):\n",
    "            _, _, mask = line.split()\n",
    "            xs = int(mask.translate(xs_bits), base=2)\n",
    "            or_ = int(mask.replace('X', '0'), base=2)\n",
    "        else:\n",
    "            address, store = ints(line)\n",
    "            memory[address] = store & xs | or_\n",
    "    return memory\n",
    "\n",
    "example14 = '''\\\n",
    "mask = XXXXXXXXXXXXXXXXXXXXXXXXXXXXX1XXXX0X\n",
    "mem[8] = 11\n",
    "mem[7] = 101\n",
    "mem[8] = 0'''\n",
    "\n",
    "assert sum(run_program(example14).values()) == 165\n",
    "sum(run_program(day(14)).values())"
   ]
  },
  {
   "cell_type": "markdown",
   "metadata": {},
   "source": [
    "Part two, the mask is applied to the address, and the Xs denote \"floating\" bits -- ones which take values 0 and 1."
   ]
  },
  {
   "cell_type": "code",
   "execution_count": 31,
   "metadata": {},
   "outputs": [
    {
     "data": {
      "text/plain": [
       "4200656704538"
      ]
     },
     "execution_count": 31,
     "metadata": {},
     "output_type": "execute_result"
    }
   ],
   "source": [
    "def run_program2(prog):\n",
    "    memory = {}\n",
    "    for line in prog.splitlines():\n",
    "        if line.startswith('mask'):\n",
    "            _, _, mask = line.split()\n",
    "            xs = int(mask.translate(xs_bits), base=2)\n",
    "            or_ = int(mask.replace('X', '0'), base=2)\n",
    "            p2 = [1<<s for s, v in enumerate(mask[::-1]) if v=='X']\n",
    "        else:\n",
    "            address, store = ints(line)\n",
    "            address = address & ~xs | or_\n",
    "            memory.update((address|sum(p), store) for p in powerset(p2))\n",
    "    return memory\n",
    "\n",
    "example14_2 = '''\\\n",
    "mask = 000000000000000000000000000000X1001X\n",
    "mem[42] = 100\n",
    "mask = 00000000000000000000000000000000X0XX\n",
    "mem[26] = 1'''\n",
    "\n",
    "assert sum(run_program2(example14_2).values()) == 208\n",
    "sum(run_program2(day(14)).values())"
   ]
  },
  {
   "cell_type": "markdown",
   "metadata": {},
   "source": [
    "## Day 15: [Rambunctious Recitation](https://adventofcode.com/2020/day/15)\n",
    "A sequence evolves from a list of starting numbers. At each turn, examine the previous number:\n",
    "- if that was a new number, append 0\n",
    "- otherwise, append the number of turns since the number was previously seen"
   ]
  },
  {
   "cell_type": "code",
   "execution_count": 32,
   "metadata": {},
   "outputs": [
    {
     "data": {
      "text/plain": [
       "273"
      ]
     },
     "execution_count": 32,
     "metadata": {},
     "output_type": "execute_result"
    }
   ],
   "source": [
    "def recite(xs):\n",
    "    times = its.count()\n",
    "    seen = dict(zip(xs, times))\n",
    "    yield from xs\n",
    "    x = 0\n",
    "    for t in times:\n",
    "        yield x\n",
    "        nextx = t - seen.get(x, t)\n",
    "        seen[x] = t\n",
    "        x = nextx\n",
    "\n",
    "assert nth(recite([0, 3, 6]), 2019) == 436\n",
    "nth(recite([1,12,0,20,8,16]), 2019)"
   ]
  },
  {
   "cell_type": "code",
   "execution_count": 33,
   "metadata": {},
   "outputs": [
    {
     "name": "stdout",
     "output_type": "stream",
     "text": [
      "Wall time: 9.48 s\n"
     ]
    },
    {
     "data": {
      "text/plain": [
       "47205"
      ]
     },
     "execution_count": 33,
     "metadata": {},
     "output_type": "execute_result"
    }
   ],
   "source": [
    "# Part 2 asks us for the 30 millionth entry\n",
    "%time nth(recite([1,12,0,20,8,16]), 30_000_000-1)"
   ]
  },
  {
   "cell_type": "markdown",
   "metadata": {},
   "source": [
    "## Day 16: [Ticket Translation](https://adventofcode.com/2020/day/16)\n",
    "Tickets have numbered fields. We are given:\n",
    "- a set of inclusive ranges\n",
    "- our tickets\n",
    "- nearby tickets\n",
    "For part one, we are asked to sum the fields in the nearby tickets which are outside the valid ranges."
   ]
  },
  {
   "cell_type": "code",
   "execution_count": 34,
   "metadata": {},
   "outputs": [
    {
     "data": {
      "text/plain": [
       "29851"
      ]
     },
     "execution_count": 34,
     "metadata": {},
     "output_type": "execute_result"
    }
   ],
   "source": [
    "def load_tickets(ticket_data):\n",
    "    \"\"\"Parse the supplied ticket data\n",
    "    \n",
    "    Returns a triple `(ranges, your_ticket, nearby_tickets)` where\n",
    "    `ranges` maps range name to a set of values in that range\n",
    "    and tickets are lists of integers.\n",
    "    \"\"\"\n",
    "    mode = \"ranges\"\n",
    "    ranges = {}\n",
    "    nearby_tickets = []\n",
    "    for line in ticket_data.splitlines():\n",
    "        if not line:\n",
    "            pass\n",
    "        elif line in (\"your ticket:\", \"nearby tickets:\"):\n",
    "            mode = line\n",
    "        elif mode == \"ranges\":\n",
    "            field = line.split(':')[0]\n",
    "            a, b, c, d = [int(n) for n in re.findall('\\d+', line)]\n",
    "            ranges[field] = set(range(a, b+1)) | set(range(c, d+1))\n",
    "        elif mode == \"your ticket:\":\n",
    "            your_ticket = ints(line)\n",
    "        elif mode == \"nearby tickets:\":\n",
    "            nearby_tickets.append(ints(line))\n",
    "    return ranges, your_ticket, nearby_tickets\n",
    "\n",
    "def error_rate(ticket_data):\n",
    "    \"Return the sum of invalid values in nearby tickets\"\n",
    "    ranges, _, nearby = load_tickets(ticket_data)\n",
    "    valid = set.union(*ranges.values()) \n",
    "    return sum(v for v in flatten(nearby) if v not in valid)\n",
    "\n",
    "example16 = '''\\\n",
    "class: 1-3 or 5-7\n",
    "row: 6-11 or 33-44\n",
    "seat: 13-40 or 45-50\n",
    "\n",
    "your ticket:\n",
    "7,1,14\n",
    "\n",
    "nearby tickets:\n",
    "7,3,47\n",
    "40,4,50\n",
    "55,2,20\n",
    "38,6,12'''\n",
    "\n",
    "assert error_rate(example16) == 71\n",
    "error_rate(day(16))"
   ]
  },
  {
   "cell_type": "code",
   "execution_count": 35,
   "metadata": {},
   "outputs": [
    {
     "data": {
      "text/plain": [
       "3029180675981"
      ]
     },
     "execution_count": 35,
     "metadata": {},
     "output_type": "execute_result"
    }
   ],
   "source": [
    "def tickets_part2(ticket_data):\n",
    "    ranges, yours, nearby = load_tickets(ticket_data)\n",
    "    valid = set.union(*ranges.values())\n",
    "    nearby = [n for n in nearby if set(n) <= valid]\n",
    "    \n",
    "    # possible maps from ticket column to possible fields for that column\n",
    "    possible = {\n",
    "        c: {k for k, v in ranges.items() if set(col) <= v} \n",
    "        for c, col in enumerate(zip(*nearby))\n",
    "    }\n",
    "    # certain maps ticket column to field for that column\n",
    "    certain = {}\n",
    "    \n",
    "    while possible:\n",
    "        # Look for a column with just one possible field\n",
    "        c = next(c for c, fs in possible.items() if len(fs) == 1)\n",
    "        # Mark that column as certain & adjust possibilities\n",
    "        known = certain[c] = possible.pop(c).pop()\n",
    "        possible = {c: fs - {known} for c, fs in possible.items()}\n",
    "    \n",
    "    # We are asked for the product of the six fields in our ticket\n",
    "    # which start \"departure\"\n",
    "    departure_fields = [c for c, f in certain.items() \n",
    "                        if f.startswith('departure')]\n",
    "    \n",
    "    return math.prod(ops.itemgetter(*departure_fields)(yours))\n",
    "\n",
    "tickets_part2(day(16))"
   ]
  },
  {
   "cell_type": "markdown",
   "metadata": {},
   "source": [
    "## Day 17: [Conway Cubes](https://adventofcode.com/2020/day/17)\n",
    "A \"game of life\" automata in 3 dimensions. Cubes are active `#` or inactive `.`. At each step:\n",
    "- If a cube is active and exactly 2 or 3 of its neighbors are also active, the cube remains active. Otherwise, the cube becomes inactive.\n",
    "- If a cube is inactive but exactly 3 of its neighbors are active, the cube becomes active. Otherwise, the cube remains inactive"
   ]
  },
  {
   "cell_type": "code",
   "execution_count": 36,
   "metadata": {},
   "outputs": [
    {
     "data": {
      "text/plain": [
       "255"
      ]
     },
     "execution_count": 36,
     "metadata": {},
     "output_type": "execute_result"
    }
   ],
   "source": [
    "# The initial configuration consists of cubes in z=0 plane\n",
    "example17 = '''\\\n",
    ".#.\n",
    "..#\n",
    "###'''\n",
    "\n",
    "day17 = '''\\\n",
    "####.#..\n",
    ".......#\n",
    "#..#####\n",
    ".....##.\n",
    "##...###\n",
    "#..#.#.#\n",
    ".##...#.\n",
    "#...##..'''\n",
    "\n",
    "\n",
    "steps3d = {p for p in its.product([-1,0,1], repeat=3)} - {(0, 0, 0)}\n",
    "steps4d = {p for p in its.product([-1,0,1], repeat=4)} - {(0, 0, 0, 0)}\n",
    "\n",
    "def neighbours3d(p):\n",
    "    x, y, z = p\n",
    "    return ((x+dx,y+dy,z+dz) for dx, dy, dz in steps3d)\n",
    "\n",
    "def neighbours4d(p):\n",
    "    x, y, z, w = p\n",
    "    return ((x+dx,y+dy,z+dz,w+dw) for dx, dy, dz, dw in steps4d)\n",
    "\n",
    "def conway_cubes(pts, bounds, neighbours):\n",
    "    def is_active(p):\n",
    "        active = sum(n in pts for n in neighbours(p))\n",
    "        return active==3 or active==2 and p in pts\n",
    "    while True:\n",
    "        yield pts \n",
    "        pts = {p for p in bounds if is_active(p)}\n",
    "\n",
    "def start_pts(pts_data, dim=3):\n",
    "    return {tuple([x, y] + [0]*(dim-2)) \n",
    "            for y, row in enumerate(pts_data.splitlines())\n",
    "            for x, c in enumerate(row) if c=='#'}\n",
    "\n",
    "\n",
    "# We expand a maximum step of 1 in all directions at each step\n",
    "# Since we are only taking 6 steps, just create a large enough bounding box\n",
    "# for all possible activity.\n",
    "W, H = day17.index('\\n'), day17.count('\\n')\n",
    "S = 6\n",
    " \n",
    "bounds = set(its.product(range(-S, W+S+1), range(-S, H+S+1), range(-S, S+1)))\n",
    "assert len(nth(conway_cubes(start_pts(example17), bounds, neighbours3d), 6)) == 112\n",
    "len(nth(conway_cubes(start_pts(day17), bounds, neighbours3d), 6))"
   ]
  },
  {
   "cell_type": "markdown",
   "metadata": {},
   "source": [
    "Part 2 expands the space to 4 dimensions."
   ]
  },
  {
   "cell_type": "code",
   "execution_count": 37,
   "metadata": {},
   "outputs": [
    {
     "name": "stdout",
     "output_type": "stream",
     "text": [
      "Wall time: 10.7 s\n"
     ]
    },
    {
     "data": {
      "text/plain": [
       "2340"
      ]
     },
     "execution_count": 37,
     "metadata": {},
     "output_type": "execute_result"
    }
   ],
   "source": [
    "bounds4 = set(its.product(\n",
    "    range(-S, W+S+1), range(-S, H+S+1), range(-S, S+1), range(-S, S+1)))\n",
    "assert len(nth(conway_cubes(start_pts(example17, dim=4), bounds4, neighbours4d), 6)) == 848\n",
    "%time len(nth(conway_cubes(start_pts(day17, dim=4), bounds4, neighbours4d), 6))"
   ]
  },
  {
   "cell_type": "markdown",
   "metadata": {},
   "source": [
    "## Day 18: [Operation Order](https://adventofcode.com/2020/day/18)\n",
    "Arithmetic rules have changed: addition and multiplication have the same precedence, so e.g. `1 + 2 * 3` evaluates to `9` rather than `7`. \n",
    "\n",
    "Making things easier, all numbers are single digits, and the only operators are `+` and `-`. "
   ]
  },
  {
   "cell_type": "code",
   "execution_count": 38,
   "metadata": {},
   "outputs": [
    {
     "data": {
      "text/plain": [
       "131076645626"
      ]
     },
     "execution_count": 38,
     "metadata": {},
     "output_type": "execute_result"
    }
   ],
   "source": [
    "def evaluate(expr):\n",
    "    tokens = list(expr.replace(' ', '')[::-1])\n",
    "    \n",
    "    def next_token():\n",
    "        return tokens.pop() if tokens else '!'\n",
    "    \n",
    "    def put_back(tok):\n",
    "        tokens.append(tok)\n",
    "    \n",
    "    def term():\n",
    "        if (tok := next_token()) == '(':\n",
    "            value = expression()\n",
    "            assert next_token() == ')'\n",
    "        else:\n",
    "            assert tok in '0123456789'\n",
    "            value = int(tok)\n",
    "        return value\n",
    "\n",
    "    def expression():\n",
    "        value = term()\n",
    "        while (tok := next_token()) in '+*':\n",
    "            if tok == '+': value += term()\n",
    "            else: value *= term()\n",
    "        put_back(tok)\n",
    "        return value\n",
    "\n",
    "    return expression()\n",
    "\n",
    "assert evaluate('5 * 9 * (7 * 3 * 3 + 9 * 3 + (8 + 6 * 4))') == 12240\n",
    "sum(evaluate(line) for line in day(18).splitlines())"
   ]
  },
  {
   "cell_type": "markdown",
   "metadata": {},
   "source": [
    "Part two changes the rules. Addition is higher precedence than multiplication."
   ]
  },
  {
   "cell_type": "code",
   "execution_count": 39,
   "metadata": {},
   "outputs": [
    {
     "data": {
      "text/plain": [
       "109418509151782"
      ]
     },
     "execution_count": 39,
     "metadata": {},
     "output_type": "execute_result"
    }
   ],
   "source": [
    "def evaluate(expr):\n",
    "    tokens = list(expr.replace(' ', '')[::-1])\n",
    "    \n",
    "    def next_token():\n",
    "        return tokens.pop() if tokens else '!'\n",
    "    \n",
    "    def put_back(tok):\n",
    "        tokens.append(tok)\n",
    "    \n",
    "    def primary():\n",
    "        if (tok := next_token()) == '(':\n",
    "            value = expression()\n",
    "            assert next_token() == ')'\n",
    "        else:\n",
    "            assert tok in '0123456789'\n",
    "            value = int(tok)\n",
    "        return value\n",
    "\n",
    "    def term():\n",
    "        value = primary()\n",
    "        while (tok := next_token()) == '+':\n",
    "            value += primary()\n",
    "        put_back(tok)\n",
    "        return value\n",
    "\n",
    "    def expression():\n",
    "        value = term()\n",
    "        while (tok := next_token()) == '*':\n",
    "            value *= term()\n",
    "        put_back(tok)\n",
    "        return value\n",
    "\n",
    "    return expression()\n",
    "\n",
    "assert evaluate('((2 + 4 * 9) * (6 + 9 * 8 + 6) + 6) + 2 + 4 * 2') == 23340\n",
    "sum(evaluate(line) for line in day(18).splitlines())"
   ]
  },
  {
   "cell_type": "code",
   "execution_count": 40,
   "metadata": {},
   "outputs": [
    {
     "data": {
      "text/plain": [
       "(1, 2, 3, 3, 4, 5)"
      ]
     },
     "execution_count": 40,
     "metadata": {},
     "output_type": "execute_result"
    }
   ],
   "source": [
    "(1,2,3)+(3,4,5)"
   ]
  },
  {
   "cell_type": "markdown",
   "metadata": {},
   "source": [
    "## Day 19: [Monster Messages](https://adventofcode.com/2020/day/19)\n",
    "We are given rules for generating messages from `\"a\"` and `\"b\"`, then asked how many messages from a list match these rules. I used the rules to generate a regex."
   ]
  },
  {
   "cell_type": "code",
   "execution_count": 41,
   "metadata": {},
   "outputs": [
    {
     "data": {
      "text/plain": [
       "192"
      ]
     },
     "execution_count": 41,
     "metadata": {},
     "output_type": "execute_result"
    }
   ],
   "source": [
    "def max_recurse(f, limit=10, default=''):\n",
    "    levels = cs.Counter()\n",
    "    def _f(v):\n",
    "        levels[v] += 1\n",
    "        return default if levels[v] == limit else f(v)\n",
    "    return _f\n",
    "\n",
    "def rx_group(items):\n",
    "    return f'({cat(items)})'\n",
    "\n",
    "def matcher(rules):\n",
    "    @functools.lru_cache(maxsize=None)\n",
    "    @max_recurse\n",
    "    def to_rx(rule):\n",
    "        return rule if rule in 'ab|' else rx_group(map(to_rx, rules[rule]))\n",
    "    return re.compile(to_rx('0') + '$').match\n",
    "\n",
    "def matches(data, overwrite=None):\n",
    "    rules = {}\n",
    "    count = 0\n",
    "    for line in data.splitlines():\n",
    "        if ':' in line:\n",
    "            rule, _, fields = line.partition(':')\n",
    "            rules[rule] = fields.replace('\"', '').split()\n",
    "        elif not line:\n",
    "            if overwrite is not None:\n",
    "                rules.update(overwrite)\n",
    "            match = matcher(rules)\n",
    "        else:\n",
    "            count += 1 if match(line) else 0\n",
    "    return count\n",
    "\n",
    "assert matches('''\\\n",
    "0: 4 1 5\n",
    "1: 2 3 | 3 2\n",
    "2: 4 4 | 5 5\n",
    "3: 4 5 | 5 4\n",
    "4: \"a\"\n",
    "5: \"b\"\n",
    "\n",
    "ababbb\n",
    "bababa\n",
    "abbbab\n",
    "aaabbb\n",
    "aaaabbb''') == 2\n",
    "matches(day(19))"
   ]
  },
  {
   "cell_type": "markdown",
   "metadata": {},
   "source": [
    "Part two replaces two of the rules with recursive definitions. I edited my solution for part one in two places:\n",
    "- adding the opportunity to overwrite the initial rules\n",
    "- limiting the recursion level in the regex, based on inspecting the length of the input strings"
   ]
  },
  {
   "cell_type": "code",
   "execution_count": 42,
   "metadata": {},
   "outputs": [
    {
     "data": {
      "text/plain": [
       "296"
      ]
     },
     "execution_count": 42,
     "metadata": {},
     "output_type": "execute_result"
    }
   ],
   "source": [
    "overwrite = {\n",
    "    \"8\": \"42 | 42 8\".split(),\n",
    "    \"11\": \"42 31 | 42 11 31\".split()\n",
    "}\n",
    "matches(day(19), overwrite)"
   ]
  },
  {
   "cell_type": "markdown",
   "metadata": {},
   "source": [
    "## Day 20: [Jurassic Jigsaw](https://adventofcode.com/2020/day/20)\n",
    "We are supplied monochrome square tiles which must be arranged into a large square, edges matching. The tiles can be flipped and rotated.\n",
    "\n",
    "First, how many tiles are there?"
   ]
  },
  {
   "cell_type": "code",
   "execution_count": 43,
   "metadata": {},
   "outputs": [
    {
     "name": "stdout",
     "output_type": "stream",
     "text": [
      "144\n"
     ]
    }
   ],
   "source": [
    "!grep -c Tile input/20"
   ]
  },
  {
   "cell_type": "markdown",
   "metadata": {},
   "source": [
    "So, we're assembling a 12x12 tiled square. There will be 4 corners (2 matching edges), 40 edges (3 matching edges) and 100 inner squares (4 matching edges).\n",
    "\n",
    "One thing to note is that there may be symmetries. Perhaps some tiles are the same when flipped (and even rotated)? Also, a complete solution can be flipped and rotated.\n",
    "\n",
    "Let's start by loading the tiles and seeing what we've got."
   ]
  },
  {
   "cell_type": "code",
   "execution_count": 44,
   "metadata": {},
   "outputs": [
    {
     "data": {
      "text/plain": [
       "Counter({5: 100, 4: 40, 3: 4})"
      ]
     },
     "execution_count": 44,
     "metadata": {},
     "output_type": "execute_result"
    }
   ],
   "source": [
    "# Enumerate tile edges and identify their opposites\n",
    "T, L, B, R = range(1, 5)\n",
    "opposite = {T:B, L:R, B:T, R:L}\n",
    "\n",
    "def flip(rows):\n",
    "    \"Returns the rows flipped about a vertical axis\"\n",
    "    return tuple(row[::-1] for row in rows)\n",
    "\n",
    "def rotate(rows):\n",
    "    \"Rotate the rows 90 degrees clockwise\"\n",
    "    return tuple(cat(col[::-1]) for col in zip(*rows))\n",
    "\n",
    "def edges(rows):\n",
    "    \"Return the edges of the supplied rows\"\n",
    "    return {T:rows[ 0], L:cat(map(first, rows)), \n",
    "            B:rows[-1], R:cat(map(last,  rows))}\n",
    "\n",
    "def orientations(rows):\n",
    "    \"Generate the 8 orientations of the tile rows\"\n",
    "    for _ in range(4):\n",
    "        yield tuple(rows)\n",
    "        yield flip(rows)\n",
    "        rows = rotate(rows)\n",
    "\n",
    "class Tile:\n",
    "    \"Representation of a jigsaw piece\"\n",
    "    \n",
    "    def __init__(self, tile_data):\n",
    "        \"Initialise from file data\"\n",
    "        title, *rows = tile_data.splitlines()\n",
    "        self.id = ints(title)[0]\n",
    "        self.orient = [(o, edges(o)) for o in orientations(rows)]\n",
    "\n",
    "    def __hash__(self):\n",
    "        return self.id\n",
    "\n",
    "    def match_tile(self, other):\n",
    "        \"Returns the set of edges this tile shares with another\"\n",
    "        return (set(flatten(e.values() for o,e in self.orient)) &\n",
    "                set(flatten(e.values() for o,e in other.orient)))\n",
    "\n",
    "    def match_edges(self, *edge_sides):\n",
    "        \"Return the orientations matching the supplied edges, sides\"\n",
    "        return {o for o, e in self.orient\n",
    "                if all(e[ss]==ee for ee, ss in edge_sides)}\n",
    "\n",
    "def load_tiles(tile_data):\n",
    "    return set(map(Tile, tile_data.split('\\n\\n')))\n",
    "\n",
    "all_tiles = load_tiles(day(20))\n",
    "ex_tiles = load_tiles(open('input/ex20').read())\n",
    "\n",
    "# Check matching edge counts\n",
    "cs.Counter(sum(bool(t.match_tile(s)) for t in all_tiles)\n",
    "           for s in all_tiles)"
   ]
  },
  {
   "cell_type": "markdown",
   "metadata": {},
   "source": [
    "OK, that looks good: 4 corners, 40 tiles with a single outside edge, 100 inside pieces.\n",
    "For part one, we just want the product of the corner ids."
   ]
  },
  {
   "cell_type": "code",
   "execution_count": 45,
   "metadata": {},
   "outputs": [
    {
     "data": {
      "text/plain": [
       "23386616781851"
      ]
     },
     "execution_count": 45,
     "metadata": {},
     "output_type": "execute_result"
    }
   ],
   "source": [
    "def product_corner_ids(all_tiles):\n",
    "    corners = {\n",
    "        t for t in all_tiles\n",
    "        if sum(bool(t.match_tile(s)) for s in all_tiles)==3\n",
    "    }\n",
    "    return math.prod([c.id for c in corners])\n",
    "\n",
    "assert product_corner_ids(ex_tiles) == 20899048083289\n",
    "product_corner_ids(all_tiles)"
   ]
  },
  {
   "cell_type": "markdown",
   "metadata": {},
   "source": [
    "Part two asks us to find sea monsters in the final image. First, let's assemble that image."
   ]
  },
  {
   "cell_type": "code",
   "execution_count": 46,
   "metadata": {},
   "outputs": [
    {
     "data": {
      "text/plain": [
       "2376"
      ]
     },
     "execution_count": 46,
     "metadata": {},
     "output_type": "execute_result"
    }
   ],
   "source": [
    "def line_of_tiles(rows, forward, tiles):\n",
    "    back = opposite[forward]\n",
    "    line = [rows]\n",
    "    while True:\n",
    "        edge = edges(line[-1])[forward]\n",
    "        if tile := next(\n",
    "            (t for t in tiles \n",
    "             if (rows := t.match_edges((edge, back)))), None):\n",
    "            line.append(rows.pop())\n",
    "            tiles.remove(tile)\n",
    "        else:\n",
    "            return line\n",
    "\n",
    "def top_left(corner, tiles):\n",
    "    \"Orient the corner tile so it can be used top-left\"\n",
    "    es = set.union(*[corner.match_tile(t) for t in tiles])\n",
    "    return next(o for r, b in its.combinations(es, 2) \n",
    "                if (o := corner.match_edges((r, R), (b, B))))\n",
    "\n",
    "def trim_edges(image):\n",
    "    return [[tuple(c[1:-1] for c in cell[1:-1]) for cell in row] for row in image]\n",
    "\n",
    "def final_image(tiles_):\n",
    "    tiles = set(tiles_)\n",
    "    corner = next(t for t in tiles\n",
    "        if sum(bool(t.match_tile(s)) for s in tiles)==3)\n",
    "    tiles.remove(corner)\n",
    "    tl = top_left(corner, tiles).pop()\n",
    "\n",
    "    image = [line_of_tiles(l, R, tiles) for l in line_of_tiles(tl, B, tiles)]\n",
    "\n",
    "    assert not tiles\n",
    "    image = trim_edges(image)\n",
    "    N = len(image[0][0])\n",
    "    return [cat(c[i] for c in row) for row in image for i in range(N)]\n",
    "\n",
    "def pixels(rows, px='#'):\n",
    "    return set(complex(r,c) \n",
    "        for r, row in enumerate(rows) \n",
    "        for c, p in enumerate(row) if p==px)\n",
    "\n",
    "monster = pixels('''\\\n",
    "                  #\n",
    "#    ##    ##    ###\n",
    " #  #  #  #  #  #   '''.splitlines())\n",
    "\n",
    "def find_monsters(image):\n",
    "    found = set()\n",
    "    sea = pixels(image)\n",
    "    W, H = len(image[0]), len(image)\n",
    "    for p in its.product(range(H), range(W)):\n",
    "        if (maybe_monster := {complex(*p) + m for m in monster}) <= sea:\n",
    "            found |= maybe_monster\n",
    "    return len(sea - found)\n",
    "\n",
    "def water_roughness(tiles):\n",
    "    image = final_image(tiles)\n",
    "    return min(find_monsters(o) for o in orientations(image))\n",
    "\n",
    "assert water_roughness(ex_tiles)==273\n",
    "water_roughness(all_tiles)"
   ]
  },
  {
   "cell_type": "markdown",
   "metadata": {},
   "source": [
    "## Day 21: [Allergen Assessment](https://adventofcode.com/2020/day/21)\n",
    "We are given a list of food product labels. Each label lists ingredients and allergy warnings. Note:\n",
    "1. the allergy warnings on a label may be incomplete\n",
    "2. an ingredient contains at most one allergen"
   ]
  },
  {
   "cell_type": "code",
   "execution_count": 47,
   "metadata": {},
   "outputs": [
    {
     "data": {
      "text/plain": [
       "2798"
      ]
     },
     "execution_count": 47,
     "metadata": {},
     "output_type": "execute_result"
    }
   ],
   "source": [
    "def read_label(label):\n",
    "    'Given a food label, return the set of ingredients and allergens'\n",
    "    # mxmxvkd kfcds sqjhc nhms (contains dairy, fish)\n",
    "    words = re.findall('\\w+', label)\n",
    "    ix = words.index('contains')\n",
    "    return set(words[:ix]), set(words[ix+1:])\n",
    "\n",
    "def read_labels(labels):\n",
    "    return take(map(read_label, labels.splitlines()))\n",
    "\n",
    "def ingredient_to_allergen(products):\n",
    "    'Return the map from ingredient to allergen'\n",
    "    result = {}\n",
    "    allergens = set.union(*[a for _, a in products])\n",
    "    allergen_sources = {\n",
    "        a: set.intersection(\n",
    "        *[ss for ss, aa in products if a in aa])\n",
    "        for a in allergens\n",
    "    }\n",
    "    while allergen_sources:\n",
    "        a = next(a for a, ss in allergen_sources.items()\n",
    "                if len(ss) == 1)\n",
    "        s, = allergen_sources.pop(a)\n",
    "        result[s] = a\n",
    "        for srcs in allergen_sources.values():\n",
    "            srcs -= {s}\n",
    "    return result\n",
    "\n",
    "def count_safe_ingredients(products):\n",
    "    safe = set.union(\n",
    "        *[s for s, _ in products]\n",
    "    ) - set(ingredient_to_allergen(products))\n",
    "    return sum(len(safe & srcs) for srcs, _ in products)\n",
    "\n",
    "example21 = '''\\\n",
    "mxmxvkd kfcds sqjhc nhms (contains dairy, fish)\n",
    "trh fvjkl sbzzf mxmxvkd (contains dairy)\n",
    "sqjhc fvjkl (contains soy)\n",
    "sqjhc mxmxvkd sbzzf (contains fish)'''\n",
    "\n",
    "assert count_safe_ingredients(read_labels(example21)) == 5\n",
    "count_safe_ingredients(read_labels(day(21)))"
   ]
  },
  {
   "cell_type": "code",
   "execution_count": 48,
   "metadata": {},
   "outputs": [
    {
     "data": {
      "text/plain": [
       "'gbt,rpj,vdxb,dtb,bqmhk,vqzbq,zqjm,nhjrzzj'"
      ]
     },
     "execution_count": 48,
     "metadata": {},
     "output_type": "execute_result"
    }
   ],
   "source": [
    "def dangerous_ingredients(products):\n",
    "    return ','.join(src for src, a in sorted(\n",
    "        ingredient_to_allergen(products).items(),\n",
    "        key=second))\n",
    "\n",
    "assert dangerous_ingredients(read_labels(example21)) == 'mxmxvkd,sqjhc,fvjkl'\n",
    "dangerous_ingredients(read_labels(day(21)))"
   ]
  },
  {
   "cell_type": "markdown",
   "metadata": {},
   "source": [
    "## Day 22: [Crab Combat](https://adventofcode.com/2020/day/22)\n",
    "We have a small deck of space cards, and we are playing \"Combat\" against the crabs. Rules:\n",
    "1. split the deck in two\n",
    "2. for each round, each player flips a card\n",
    "3. higher value card wins the round\n",
    "4. winner places both cards at the bottom of their deck, larger first\n",
    "5. overall winner is the one who ends up with all the cards"
   ]
  },
  {
   "cell_type": "code",
   "execution_count": 49,
   "metadata": {},
   "outputs": [
    {
     "data": {
      "text/plain": [
       "32677"
      ]
     },
     "execution_count": 49,
     "metadata": {},
     "output_type": "execute_result"
    }
   ],
   "source": [
    "def load_inputs(data):\n",
    "    player1, player2 = data.split('\\n\\n')\n",
    "    return (cs.deque(int(w) for w in player1.splitlines()[1:]),\n",
    "            cs.deque(int(w) for w in player2.splitlines()[1:]))\n",
    "\n",
    "def crab_combat(decks):\n",
    "    \"Play crab combat with `decks` until we have a winner\"\n",
    "    while all(decks):\n",
    "        cards = [d.popleft() for d in decks]\n",
    "        winner = 0 if cards[0] > cards[1] else 1\n",
    "        decks[winner].extend([cards[winner], cards[not winner]])\n",
    "\n",
    "def winning_score(game, decks):\n",
    "    \"Return the winning score after playing `game` with `decks`\"\n",
    "    game(decks)\n",
    "    winner = decks[0] or decks[1]\n",
    "    return sum(n * c for n, c in enumerate(reversed(winner), 1))\n",
    "\n",
    "example22 = [cs.deque([9,2,6,3,1]), cs.deque([5,8,4,7,10])]\n",
    "assert winning_score(crab_combat, example22) == 306\n",
    "winning_score(crab_combat, load_inputs(day(22)))"
   ]
  },
  {
   "cell_type": "markdown",
   "metadata": {},
   "source": [
    "Part 2 switches the rules to play \"Recursive Combat\". This time, we have rules:\n",
    "1. a repeated position is an instant win for player 1\n",
    "2. otherwise, both players draw a card\n",
    "3. if both players have at least as many cards as the one just drawn, the winner is determined by a game of recursive combat\n",
    "4. otherwise, the higher valued card wins\n",
    "\n",
    "To play a sub-game, each player creates a new deck by making a copy of the next `n` cards in their deck, where `n` was the number they just drew."
   ]
  },
  {
   "cell_type": "code",
   "execution_count": 50,
   "metadata": {},
   "outputs": [],
   "source": [
    "def decks_value(decks):\n",
    "    \"Return a hashable value for decks\"\n",
    "    return tuple(tuple(d) for d in decks)\n",
    "\n",
    "def recursive_combat(decks):\n",
    "    \"Play recursive combat using decks\"\n",
    "    seen = set()\n",
    "    while all(decks) and (v := decks_value(decks)) not in seen:\n",
    "        seen.add(v)\n",
    "        cards = [d.popleft() for d in decks]\n",
    "        if all(len(d) >= c for c, d in zip(cards, decks)):\n",
    "            winner = recursive_combat(\n",
    "                [cs.deque(d[i] for i in range(c)) \n",
    "                 for c, d in zip(cards, decks)])\n",
    "        else:\n",
    "            winner = 0 if cards[0] > cards[1] else 1\n",
    "        decks[winner].extend([cards[winner], cards[not winner]])\n",
    "    return 0 if decks[0] else 1 "
   ]
  },
  {
   "cell_type": "code",
   "execution_count": 51,
   "metadata": {},
   "outputs": [
    {
     "data": {
      "text/plain": [
       "33661"
      ]
     },
     "execution_count": 51,
     "metadata": {},
     "output_type": "execute_result"
    }
   ],
   "source": [
    "example22 = [cs.deque([9,2,6,3,1]), cs.deque([5,8,4,7,10])]\n",
    "assert winning_score(recursive_combat, example22) == 291\n",
    "winning_score(recursive_combat, load_inputs(day(22)))"
   ]
  },
  {
   "cell_type": "markdown",
   "metadata": {},
   "source": [
    "## Day 23: [Crab Cups](https://adventofcode.com/2020/day/23)\n",
    "Another game, based on a circle of cups. Starting with the first cup as the current cup:\n",
    "1. remove the next 3 cups from the circle\n",
    "2. select a destination -- the cup with the closest value which is less than the current one, if there is one, otherwise the maximum valued cup\n",
    "3. place the 3 removed cups immediately clockwise of the destination\n",
    "4. set the new current cup to be the next, in a clockwise direction"
   ]
  },
  {
   "cell_type": "code",
   "execution_count": 52,
   "metadata": {},
   "outputs": [
    {
     "data": {
      "text/plain": [
       "'59374826'"
      ]
     },
     "execution_count": 52,
     "metadata": {},
     "output_type": "execute_result"
    }
   ],
   "source": [
    "def crab_cups(cups, R=100):\n",
    "    \"Return the final position of `cups` after `R` rounds\"\n",
    "    for _ in range(R):\n",
    "        d = max((cup for cup in cups[4:] if cup < cups[0]), \n",
    "                default=max(cups[4:]))\n",
    "        i = cups.index(d)\n",
    "        cups = cups[4:i+1] + cups[1:4] + cups[i+1:] + cups[:1]\n",
    "    return cups \n",
    "\n",
    "def order_after1(cups, R=100):\n",
    "    \"Return the cups, anticlockwise, after `1`\"\n",
    "    i = cups.index(1)\n",
    "    return cat(map(str, cups[i+1:] + cups[:i]))\n",
    "\n",
    "assert order_after1(crab_cups([3,8,9,1,2,5,4,6,7])) == '67384529'\n",
    "order_after1(crab_cups([1,3,7,8,2,6,4,9,5]))"
   ]
  },
  {
   "cell_type": "markdown",
   "metadata": {},
   "source": [
    "For part two, we have one million cups. The first 9 cups are labelled as before, then the cups are labelled sequentially, 10, 11, ... 1,000,000. \n",
    "Rather than 100 moves, the crab makes 10,000,000 moves. The solution for part one will be too slow. I'm thinking a linked list structure, with links to the next cup and also to the smaller valued cup."
   ]
  },
  {
   "cell_type": "code",
   "execution_count": 53,
   "metadata": {},
   "outputs": [
    {
     "name": "stdout",
     "output_type": "stream",
     "text": [
      "Wall time: 11.7 s\n"
     ]
    },
    {
     "data": {
      "text/plain": [
       "66878091588"
      ]
     },
     "execution_count": 53,
     "metadata": {},
     "output_type": "execute_result"
    }
   ],
   "source": [
    "def ordered_cups(cups, nxt):\n",
    "    \"Return the cups listed in order\"\n",
    "    p = 0\n",
    "    return [cups[(p := nxt[p])] for _ in range(len(cups))]\n",
    "\n",
    "def crab_cups(cups, R=100, max_cup=None):\n",
    "    \"\"\"Play the extended crab cup variant\n",
    "    \n",
    "    - cups - initial positions of low valued cups\n",
    "    - R - number of rounds\n",
    "    - max_cup - maximum auto-filled cup value (None => no autofill)\n",
    "    \"\"\"\n",
    "    N = max_cup or len(cups)\n",
    "    cups = list(cups) + list(range(len(cups)+1, N+1))\n",
    "    # less[i] = index of the cup 1 less than i (or N for cup 1) \n",
    "    cup_index = {cup: ix for ix, cup in enumerate(cups)}\n",
    "    less = [cup_index[cup-1 or N] for cup in cups]\n",
    "    # Like a linked list, next_[i] is the index of the cup next to i\n",
    "    nxt = list(range(1, N)) + [0]\n",
    "    cur = mov = dst = 0\n",
    "    for _ in range(R):\n",
    "        moved = [(mov := nxt[mov]) for _ in range(3)]\n",
    "        while (dst := less[dst]) in moved: pass\n",
    "        nxt[cur], nxt[mov], nxt[dst] = nxt[mov], nxt[dst], nxt[cur]\n",
    "        cur = mov = dst = nxt[cur]\n",
    "    return ordered_cups(cups, nxt)\n",
    "\n",
    "# Check example from part 1\n",
    "assert order_after1(crab_cups([3,8,9,1,2,5,4,6,7])) == '67384529'\n",
    "\n",
    "def multiply_after1(cups):\n",
    "    ix = cups.index(1)\n",
    "    N = len(cups)\n",
    "    return cups[(ix+1) % N] * cups[(ix+2) % N]\n",
    "\n",
    "many_cups = functools.partial(crab_cups, R=10_000_000, max_cup=1_000_000)\n",
    "assert multiply_after1(many_cups([3,8,9,1,2,5,4,6,7])) == 149245887792\n",
    "%time multiply_after1(many_cups([1,3,7,8,2,6,4,9,5]))"
   ]
  },
  {
   "cell_type": "markdown",
   "metadata": {},
   "source": [
    "## Day 24: [Lobby Layout](https://adventofcode.com/2020/day/24)\n",
    "Day 24 involves navigating a floor paved with hexagonal tiles. For part one, starting from a fixed point, we flip the tile we reach after following a sequence of steps.\n",
    "\n",
    "Hexagonal coordinate systems are described beautifully on this web site: https://www.redblobgames.com/grids/hexagons/.\n",
    "\n",
    "![Hexagonal coordinates](./hex-coords.png)"
   ]
  },
  {
   "cell_type": "code",
   "execution_count": 54,
   "metadata": {},
   "outputs": [
    {
     "data": {
      "text/plain": [
       "300"
      ]
     },
     "execution_count": 54,
     "metadata": {},
     "output_type": "execute_result"
    }
   ],
   "source": [
    "get_steps = re.compile('e|se|sw|w|nw|ne').findall\n",
    "hex_coord = np.array\n",
    "hex_step = {\n",
    "    'e' : hex_coord([1,-1,0]),\n",
    "    'se': hex_coord([0,-1,1]),\n",
    "    'sw': hex_coord([-1,0,1]),\n",
    "    'w' : hex_coord([-1,1,0]),\n",
    "    'nw': hex_coord([0,1,-1]),\n",
    "    'ne': hex_coord([1,0,-1]),\n",
    "}\n",
    "\n",
    "origin = hex_coord([0,0,0])\n",
    "\n",
    "def Tiles(*args):\n",
    "    return cs.defaultdict(lambda: False, *args)\n",
    "\n",
    "def hex_navigate(steps):\n",
    "    \"Return position starting from origin following steps e.g. 'enewswsw'\"\n",
    "    return sum((hex_step[s] for s in get_steps(steps)), start=origin)\n",
    "\n",
    "def black_tiles(instructions):\n",
    "    \"Follow instructions & return a mapping pt -> is_black\"\n",
    "    black = Tiles()\n",
    "    for line in instructions.splitlines():\n",
    "        pt = tuple(hex_navigate(line))\n",
    "        black[pt] = not black[pt]\n",
    "    return black\n",
    "\n",
    "example24 = open('input/ex24').read()\n",
    "assert sum(black_tiles(example24).values()) == 10\n",
    "sum(black_tiles(day(24)).values())"
   ]
  },
  {
   "cell_type": "markdown",
   "metadata": {},
   "source": [
    "Part two turns the lobby into a living art exhibit. Every day the tiles are flipped, applying two rules:\n",
    "1. a black tile with zero or more than 2 black tiles next to it is flipped to white\n",
    "2. a white tile with exactly 2 black tiles next to it is flipped to black"
   ]
  },
  {
   "cell_type": "code",
   "execution_count": 55,
   "metadata": {},
   "outputs": [],
   "source": [
    "def hex_neighbours(p):\n",
    "    \"Generate the hexagonal neighbours of `p`\"\n",
    "    return (p + v for v in hex_step.values())\n",
    "\n",
    "def evolve_tiles(tiles):\n",
    "    \"Generate black tile positions. Yields pt -> is_black\"\n",
    "    def evolve(tile):\n",
    "        black = tiles[tile]\n",
    "        n_black = sum(tiles[tuple(n)] for n in hex_neighbours(tile))\n",
    "        return n_black==2 or black and n_black == 1\n",
    "\n",
    "    while True:\n",
    "        yield tiles\n",
    "        next_gen = {\n",
    "            tuple(n) for tile, black in tiles.items() if black\n",
    "            for n in hex_neighbours(tile)}\n",
    "        tiles = Tiles({n: evolve(n) for n in next_gen})                   "
   ]
  },
  {
   "cell_type": "code",
   "execution_count": 56,
   "metadata": {},
   "outputs": [
    {
     "name": "stdout",
     "output_type": "stream",
     "text": [
      "Wall time: 11.2 s\n"
     ]
    },
    {
     "data": {
      "text/plain": [
       "3466"
      ]
     },
     "execution_count": 56,
     "metadata": {},
     "output_type": "execute_result"
    }
   ],
   "source": [
    "gen10 = take(evolve_tiles(black_tiles(example24)), 10)\n",
    "assert take(sum(g.values()) for g in gen10) == [10,15,12,25,14,23,28,41,37,49]\n",
    "%time day100 = nth(evolve_tiles(black_tiles(day(24))), 100)\n",
    "sum(day100.values())"
   ]
  },
  {
   "cell_type": "markdown",
   "metadata": {},
   "source": [
    "## Day 25: [Combo Breaker](https://adventofcode.com/2020/day/25)\n",
    "We're asked to reverse-engineer a card entry protocol. This involves repeating `n` times `v = (v * s) % 20201227` for subject `s` starting from from `v = 1`. \n",
    "\n",
    "The protocol is:\n",
    "- the card transforms `7` a secret number of times to form the card's public key\n",
    "- the door transforms `7` a secret number of times to form the card's public key\n",
    "- these keys are transferred so door and card have each others public keys\n",
    "- the card and door transform each other's public key to obtain a shared encryption key\n",
    "\n",
    "We have the public keys but not the loop sizes. "
   ]
  },
  {
   "cell_type": "code",
   "execution_count": 57,
   "metadata": {},
   "outputs": [
    {
     "data": {
      "text/plain": [
       "9420461"
      ]
     },
     "execution_count": 57,
     "metadata": {},
     "output_type": "execute_result"
    }
   ],
   "source": [
    "pubkeys = 335121, 363891\n",
    "\n",
    "def encrypt(subject=7):\n",
    "    \"Generate the sequence which might encrypt the subject\"\n",
    "    v = 1\n",
    "    while True:\n",
    "        yield v\n",
    "        v = (v * subject) % 20201227\n",
    "\n",
    "def loop_count(pubkey):\n",
    "    \"Return the secret which produces `pubkey`\"\n",
    "    vs = enumerate(encrypt())\n",
    "    return next(its.dropwhile(lambda nv: nv[1] != pubkey, vs))[0]\n",
    "\n",
    "secrets = [loop_count(k) for k in pubkeys]\n",
    "\n",
    "encrypted = {nth(encrypt(pubkeys[i]), secrets[j]) \n",
    "             for i, j in ((0,1), (1,0))} \n",
    "assert len(encrypted) == 1\n",
    "encrypted.pop()"
   ]
  },
  {
   "cell_type": "markdown",
   "metadata": {},
   "source": [
    "![All done](./done.png)"
   ]
  },
  {
   "cell_type": "code",
   "execution_count": null,
   "metadata": {},
   "outputs": [],
   "source": []
  }
 ],
 "metadata": {
  "kernelspec": {
   "display_name": "Python 3",
   "language": "python",
   "name": "python3"
  },
  "language_info": {
   "codemirror_mode": {
    "name": "ipython",
    "version": 3
   },
   "file_extension": ".py",
   "mimetype": "text/x-python",
   "name": "python",
   "nbconvert_exporter": "python",
   "pygments_lexer": "ipython3",
   "version": "3.8.5"
  }
 },
 "nbformat": 4,
 "nbformat_minor": 4
}
