{
 "cells": [
  {
   "cell_type": "markdown",
   "metadata": {},
   "source": [
    "# [Advent of Code 2020](https://adventofcode.com/2020)\n",
    "I'm going to have a go at the Advent of Code using a Jupyter Notebook. First, we'll import some modules."
   ]
  },
  {
   "cell_type": "code",
   "execution_count": 1,
   "metadata": {},
   "outputs": [],
   "source": [
    "# Standard imports\n",
    "import cmath\n",
    "import collections as cs\n",
    "import dataclasses\n",
    "import functools\n",
    "import itertools as its\n",
    "import math\n",
    "import numbers\n",
    "import operator as ops\n",
    "import random\n",
    "import re\n",
    "import statistics\n",
    "import string\n",
    "import time\n",
    "import typing\n",
    "from pprint import pprint\n",
    "\n",
    "# Non-standard imports\n",
    "import matplotlib.pyplot as plt\n",
    "import numpy as np\n",
    "import networkx as nx\n",
    "import graphviz as gv"
   ]
  },
  {
   "cell_type": "markdown",
   "metadata": {},
   "source": [
    "Next, some helper functions."
   ]
  },
  {
   "cell_type": "code",
   "execution_count": 2,
   "metadata": {},
   "outputs": [],
   "source": [
    "def day(day):\n",
    "    'Load the input for `day`'\n",
    "    return open(f'input/{day}').read()\n",
    "\n",
    "flatten = its.chain.from_iterable\n",
    "cat = ''.join\n",
    "ncat = '\\n'.join\n",
    "first = ops.itemgetter(0)\n",
    "second = ops.itemgetter(1)\n",
    "\n",
    "def last(xs):\n",
    "    'Return the last element of an iterable sequence'\n",
    "    return cs.deque(iter(xs), maxlen=1)[0]\n",
    "\n",
    "def ints(s):\n",
    "    'Return a tuple of integer tokens in `s`'\n",
    "    return tuple(int(x) for x in re.findall(r'[-+]?\\d+', s))\n",
    "\n",
    "def array(data):\n",
    "    'Convert the data into a tuple of int-tuples'\n",
    "    return tuple(ints(line) for line in data.splitlines())\n",
    "\n",
    "def swap(xs, i, j):\n",
    "    'Swap items in a sequence.'\n",
    "    xs[i], xs[j] = xs[j], xs[i]\n",
    "\n",
    "def nth(xs, n):\n",
    "    'Return the nth element of a sequence.'\n",
    "    return next(its.islice(xs, n, None))\n",
    "\n",
    "def take(xs, n=None):\n",
    "    'Return (up to) first `n` items of a sequence or the whole sequence if `n` is `None`'\n",
    "    return list(its.islice(xs, n))\n",
    "\n",
    "def overlapping(xs, n):\n",
    "    '''Generate overlapping n-tuples from `xs`\n",
    "\n",
    "    overlapping('ABCDEFG', 3) --> ABC BCD CDE DEF EFG\n",
    "    '''\n",
    "    if isinstance(xs, cs.abc.Sequence):\n",
    "        yield from (xs[i:i+n] for i in range(len(xs) + 1 - n))\n",
    "    else:\n",
    "        result = cs.deque(maxlen=n)\n",
    "        for x in xs:\n",
    "            result.append(x)\n",
    "            if len(result) == n:\n",
    "                yield tuple(result)\n",
    "                \n",
    "def pairwise(iterable):\n",
    "    's -> (s0,s1), (s1,s2), (s2, s3), ...'\n",
    "    return overlapping(iterable, 2)\n",
    "\n",
    "def powerset(xs):\n",
    "    \"powerset([1,2,3]) --> () (1,) (2,) (3,) (1,2) (1,3) (2,3) (1,2,3)\"\n",
    "    s = list(xs)\n",
    "    return flatten(its.combinations(s, r) for r in range(len(s)+1))\n",
    "\n",
    "def chunked(xs, n, extend=False, fillvalue=None):\n",
    "    'Collect `xs` into chunks of length `n`'\n",
    "    xss = [iter(xs)] * n\n",
    "    if extend:\n",
    "        return its.zip_longest(*xss, fillvalue=fillvalue)\n",
    "    else:\n",
    "        return zip(*xss)\n",
    "\n",
    "def grouped(xs, key):\n",
    "    return [list(g) for _, g in its.groupby(sorted(xs, key=key), key=key)]\n",
    "\n",
    "def manhattan_distance(P, Q=None):\n",
    "    'Return the city block distance from `P` to `Q`'\n",
    "    if isinstance(P, numbers.Number):\n",
    "        d = P if Q is None else P-Q \n",
    "        return math.fabs(d.real) + math.fabs(d.imag)\n",
    "    elif Q is None:\n",
    "        return sum(math.fabs(p) for p in P)\n",
    "    else:\n",
    "        return sum(math.fabs(p-q) for p,q in zip(P, Q))\n",
    "\n",
    "def neighbours4(*v):\n",
    "    'Return the horizontal and vertical neighbours of `(x, y)`'\n",
    "    if len(v) == 1:\n",
    "        c = v[0]\n",
    "        return c-1j, c+1, c+1j, c-1\n",
    "    else:\n",
    "        x, y = v\n",
    "        return (x,y-1),(x-1,y),(x+1,y),(x,y+1)\n",
    "\n",
    "def neighbours8(x, y):\n",
    "    'Return the horizontal, vertical and diagonal neighbours of `(x, y)`'\n",
    "    return ((x-1,y-1),(x-1,y),(x-1,y+1),\n",
    "            (x,y-1),          (x,y+1),\n",
    "            (x+1,y-1),(x+1,y),(x+1,y+1))\n",
    "\n",
    "def unique(xs):\n",
    "    'Return `True` iff no elements of `xs` are repeated'\n",
    "    return len(xs) == len(set(xs))"
   ]
  },
  {
   "cell_type": "markdown",
   "metadata": {},
   "source": [
    "## Day 1: [Report Repair](https://adventofcode.com/2020/day/1)\n",
    "\n",
    "Given a list of numbers, find the product of the pair which sum to 2020"
   ]
  },
  {
   "cell_type": "code",
   "execution_count": 3,
   "metadata": {},
   "outputs": [
    {
     "data": {
      "text/plain": [
       "776064"
      ]
     },
     "execution_count": 3,
     "metadata": {},
     "output_type": "execute_result"
    }
   ],
   "source": [
    "pair = next(p for p in its.combinations(ints(day(1)), 2) if sum(p) == 2020)\n",
    "math.prod(pair)"
   ]
  },
  {
   "cell_type": "markdown",
   "metadata": {},
   "source": [
    "For part two, we're asked for a triple rather than a pair."
   ]
  },
  {
   "cell_type": "code",
   "execution_count": 4,
   "metadata": {},
   "outputs": [
    {
     "data": {
      "text/plain": [
       "6964490"
      ]
     },
     "execution_count": 4,
     "metadata": {},
     "output_type": "execute_result"
    }
   ],
   "source": [
    "triple = next(t for t in its.combinations(ints(day(1)), 3) if sum(t) == 2020)\n",
    "math.prod(triple)"
   ]
  },
  {
   "cell_type": "markdown",
   "metadata": {},
   "source": [
    "## Day 2: [Password Philosophy](https://adventofcode.com/2020/day/2)\n",
    "\n",
    "We are asked to count valid passwords given a list of password specifications in the form:\n",
    "```\n",
    "1-3 a: abcde\n",
    "1-3 b: cdefg\n",
    "2-9 c: ccccccccc\n",
    "```\n"
   ]
  },
  {
   "cell_type": "code",
   "execution_count": 5,
   "metadata": {},
   "outputs": [
    {
     "data": {
      "text/plain": [
       "515"
      ]
     },
     "execution_count": 5,
     "metadata": {},
     "output_type": "execute_result"
    }
   ],
   "source": [
    "# For part one, a password is valid if the frequency of the character \n",
    "# specified lies in the range specified\n",
    "# E.g. `1-3 a: abcde` is fine since `a` appears once\n",
    "spec_match = re.compile('(\\d+)-(\\d+) (\\w): (\\w+)$').match\n",
    "    \n",
    "def valid_password(spec):\n",
    "    lo, hi, ch, pw = spec_match(spec).group(1, 2, 3, 4)\n",
    "    return int(lo) <= pw.count(ch) <= int(hi)\n",
    "\n",
    "assert valid_password('1-3 a: abcde')\n",
    "assert not valid_password('1-3 b: cdefg')\n",
    "assert valid_password('2-9 c: ccccccccc')\n",
    "\n",
    "sum(valid_password(spec) for spec in day(2).splitlines())"
   ]
  },
  {
   "cell_type": "code",
   "execution_count": 6,
   "metadata": {},
   "outputs": [
    {
     "data": {
      "text/plain": [
       "711"
      ]
     },
     "execution_count": 6,
     "metadata": {},
     "output_type": "execute_result"
    }
   ],
   "source": [
    "# For part two, the numbers in the password spec are 1-based indices\n",
    "# into the password, which is valid if exactly one of the characters \n",
    "# at these indices is the one specified.\n",
    "def valid_password(spec):\n",
    "    lo, hi, ch, pw = spec_match(spec).group(1, 2, 3, 4)\n",
    "    return (pw[int(lo)-1] == ch) ^ (pw[int(hi)-1] == ch)\n",
    "\n",
    "assert valid_password('1-3 a: abcde')\n",
    "assert not valid_password('1-3 b: cdefg')\n",
    "assert not valid_password('2-9 c: ccccccccc')\n",
    "\n",
    "sum(valid_password(spec) for spec in day(2).splitlines())"
   ]
  },
  {
   "cell_type": "markdown",
   "metadata": {},
   "source": [
    "## Day 3: [Toboggan Trajectory](https://adventofcode.com/2020/day/3)\n",
    "\n",
    "Trees are the `#` in a grid as shown in the example. The grid tiles repeatedly to the right. \n",
    "\n",
    "```\n",
    "..##.......\n",
    "#...#...#..\n",
    ".#....#..#.\n",
    "..#.#...#.#\n",
    ".#...##..#.\n",
    "..#.##.....\n",
    ".#.#.#....#\n",
    ".#........#\n",
    "#.##...#...\n",
    "#...##....#\n",
    ".#..#...#.#\n",
    "```\n",
    "\n",
    "Starting at the top-left corner of your map and following a slope of right 3 and down 1, how many trees would you encounter?"
   ]
  },
  {
   "cell_type": "code",
   "execution_count": 7,
   "metadata": {},
   "outputs": [
    {
     "data": {
      "text/plain": [
       "207"
      ]
     },
     "execution_count": 7,
     "metadata": {},
     "output_type": "execute_result"
    }
   ],
   "source": [
    "def steps(step):\n",
    "    return zip(its.count(0, step[0]), its.count(0, step[1]))\n",
    "\n",
    "def load_trees(data):\n",
    "    return [[ch=='#' for ch in row] for row in data.splitlines()]\n",
    "\n",
    "def count_trees_hit(trees, step=(3, 1)):\n",
    "    depth, stride = len(trees), len(trees[0])\n",
    "    return sum(trees[p[1]][p[0] % stride] \n",
    "               for p in its.takewhile(lambda p: p[1] < depth, steps(step)))\n",
    "\n",
    "example3 = '''\\\n",
    "..##.......\n",
    "#...#...#..\n",
    ".#....#..#.\n",
    "..#.#...#.#\n",
    ".#...##..#.\n",
    "..#.##.....\n",
    ".#.#.#....#\n",
    ".#........#\n",
    "#.##...#...\n",
    "#...##....#\n",
    ".#..#...#.#\n",
    "'''\n",
    "\n",
    "assert count_trees_hit(load_trees(example3)) == 7\n",
    "count_trees_hit(load_trees(day(3)))"
   ]
  },
  {
   "cell_type": "markdown",
   "metadata": {},
   "source": [
    "For part two, we parametrise the step. We're asked how many trees are hit using a number of different step patterns, and to multiply these figures to produce a final answer."
   ]
  },
  {
   "cell_type": "code",
   "execution_count": 8,
   "metadata": {},
   "outputs": [
    {
     "data": {
      "text/plain": [
       "2655892800"
      ]
     },
     "execution_count": 8,
     "metadata": {},
     "output_type": "execute_result"
    }
   ],
   "source": [
    "step = ((1, 1), (3, 1), (5, 1), (7, 1), (1, 2))\n",
    "trees = load_trees(example3)\n",
    "assert math.prod([count_trees_hit(trees, s) for s in step]) == 336\n",
    "trees = load_trees(day(3))\n",
    "math.prod([count_trees_hit(trees, s) for s in step])"
   ]
  },
  {
   "cell_type": "markdown",
   "metadata": {},
   "source": [
    "## Day 4: [Passport Processing](https://adventofcode.com/2020/day/4)\n",
    "\n",
    "We are asked to validate a list of passports according to some subtle rules.\n",
    "For part 1, a password is valid if it has at all the required fields with the possible exception of `cid`."
   ]
  },
  {
   "cell_type": "code",
   "execution_count": 9,
   "metadata": {},
   "outputs": [
    {
     "data": {
      "text/plain": [
       "237"
      ]
     },
     "execution_count": 9,
     "metadata": {},
     "output_type": "execute_result"
    }
   ],
   "source": [
    "example4 = '''\\\n",
    "ecl:gry pid:860033327 eyr:2020 hcl:#fffffd\n",
    "byr:1937 iyr:2017 cid:147 hgt:183cm\n",
    "\n",
    "iyr:2013 ecl:amb cid:350 eyr:2023 pid:028048884\n",
    "hcl:#cfa07d byr:1929\n",
    "\n",
    "hcl:#ae17e1 iyr:2013\n",
    "eyr:2024\n",
    "ecl:brn pid:760753108 byr:1931\n",
    "hgt:179cm\n",
    "\n",
    "hcl:#cfa07d eyr:2025 pid:166559648\n",
    "iyr:2011 ecl:brn hgt:59in'''\n",
    "\n",
    "required_fields = set('byr iyr eyr hgt hcl ecl pid'.split())\n",
    "\n",
    "def valid_passport(passport_spec):\n",
    "    fields = {w[:3] for w in passport_spec.split()}\n",
    "    return not required_fields - fields\n",
    "\n",
    "assert sum(valid_passport(pp) for pp in example4.split('\\n\\n')) == 2\n",
    "sum(valid_passport(pp) for pp in day(4).split('\\n\\n'))"
   ]
  },
  {
   "cell_type": "markdown",
   "metadata": {},
   "source": [
    "Part 2 makes the rules more complex.\n",
    "You can continue to ignore the cid field, but each other field has strict rules about what values are valid for automatic validation:\n",
    "\n",
    "- byr (Birth Year) - four digits; at least 1920 and at most 2002.\n",
    "- iyr (Issue Year) - four digits; at least 2010 and at most 2020.\n",
    "- eyr (Expiration Year) - four digits; at least 2020 and at most 2030.\n",
    "- hgt (Height) - a number followed by either cm or in:\n",
    " - If cm, the number must be at least 150 and at most 193.\n",
    " - If in, the number must be at least 59 and at most 76.\n",
    "- hcl (Hair Color) - a # followed by exactly six characters 0-9 or a-f.\n",
    "- ecl (Eye Color) - exactly one of: amb blu brn gry grn hzl oth.\n",
    "- pid (Passport ID) - a nine-digit number, including leading zeroes.\n",
    "- cid (Country ID) - ignored, missing or not."
   ]
  },
  {
   "cell_type": "code",
   "execution_count": 10,
   "metadata": {},
   "outputs": [
    {
     "data": {
      "text/plain": [
       "172"
      ]
     },
     "execution_count": 10,
     "metadata": {},
     "output_type": "execute_result"
    }
   ],
   "source": [
    "def valid_year(lo, hi):\n",
    "    ys = {str(y) for y in range(lo, hi+1)}\n",
    "    return lambda y: y in ys\n",
    "\n",
    "def valid_height(h):\n",
    "    v, units = h[:-2], h[-2:]\n",
    "    try:\n",
    "        return {\n",
    "            'cm': int(v) in range(150, 194),\n",
    "            'in': int(v) in range(59, 77),\n",
    "        }[units]\n",
    "    except (KeyError, ValueError):\n",
    "        return False\n",
    "\n",
    "field_validators = {\n",
    "    'byr': valid_year(1920, 2002),\n",
    "    'iyr': valid_year(2010, 2020),\n",
    "    'eyr': valid_year(2020, 2030),\n",
    "    'hgt': valid_height,\n",
    "    'hcl': re.compile('#[0-9a-f]{6}$').match,\n",
    "    'ecl': lambda v: v in 'amb blu brn gry grn hzl oth'.split(),\n",
    "    'pid': re.compile('\\d{9}$').match,\n",
    "    'cid': lambda v: True\n",
    "}\n",
    "\n",
    "def valid_passport(passport_spec):\n",
    "    fields = {w[:3]:w[4:] for w in passport_spec.split()}\n",
    "    if required_fields - set(fields):\n",
    "        return False\n",
    "    else:\n",
    "        return all(field_validators[k](v) for k, v in fields.items())\n",
    "\n",
    "invalid_passports = '''\\\n",
    "eyr:1972 cid:100\n",
    "hcl:#18171d ecl:amb hgt:170 pid:186cm iyr:2018 byr:1926\n",
    "\n",
    "iyr:2019\n",
    "hcl:#602927 eyr:1967 hgt:170cm\n",
    "ecl:grn pid:012533040 byr:1946\n",
    "\n",
    "hcl:dab227 iyr:2012\n",
    "ecl:brn hgt:182cm pid:021572410 eyr:2020 byr:1992 cid:277\n",
    "\n",
    "hgt:59cm ecl:zzz\n",
    "eyr:2038 hcl:74454a iyr:2023\n",
    "pid:3556412378 byr:2007\n",
    "'''\n",
    "\n",
    "valid_passports = '''\\\n",
    "pid:087499704 hgt:74in ecl:grn iyr:2012 eyr:2030 byr:1980\n",
    "hcl:#623a2f\n",
    "\n",
    "eyr:2029 ecl:blu cid:129 byr:1989\n",
    "iyr:2014 pid:896056539 hcl:#a97842 hgt:165cm\n",
    "\n",
    "hcl:#888785\n",
    "hgt:164cm byr:2001 iyr:2015 cid:88\n",
    "pid:545766238 ecl:hzl\n",
    "eyr:2022\n",
    "\n",
    "iyr:2010 hgt:158cm hcl:#b6652a ecl:blu byr:1944 eyr:2021 pid:093154719\n",
    "'''\n",
    "\n",
    "assert not any(valid_passport(pp) for pp in invalid_passports.split('\\n\\n'))\n",
    "assert all(valid_passport(pp) for pp in valid_passports.split('\\n\\n'))\n",
    "\n",
    "sum(valid_passport(pp) for pp in day(4).split('\\n\\n'))"
   ]
  },
  {
   "cell_type": "markdown",
   "metadata": {},
   "source": [
    "## Day 5: [Binary Boarding](https://adventofcode.com/2020/day/5)\n",
    "\n",
    "A seat on a plane has an id of the form `FBFBBFFRLR` where `F` and `B` indicate front and back, identifying row, `L` and `R` indicate column. The seat id is found by multiplying the row by 8 then adding the column."
   ]
  },
  {
   "cell_type": "code",
   "execution_count": 11,
   "metadata": {},
   "outputs": [
    {
     "data": {
      "text/plain": [
       "987"
      ]
     },
     "execution_count": 11,
     "metadata": {},
     "output_type": "execute_result"
    }
   ],
   "source": [
    "# Convert the FBFBBFFRLR form into standard binary 0101100101 \n",
    "# This number _is_ the id\n",
    "table = str.maketrans('FBLR', '0101')\n",
    "def seat_id(boarding_pass):\n",
    "    return int(boarding_pass.translate(table), 2)\n",
    "\n",
    "assert seat_id('FBFBBFFRLR') == 357\n",
    "seats = {seat_id(p) for p in day(5).split()}\n",
    "max(seats)"
   ]
  },
  {
   "cell_type": "markdown",
   "metadata": {},
   "source": [
    "Part two asks which seat id is missing from the input, but says:\n",
    "> some of the seats at the very front and back of the plane don't exist on this aircraft, so they'll be missing from your list as well ... the seats with IDs +1 and -1 from yours will be in your list.\""
   ]
  },
  {
   "cell_type": "code",
   "execution_count": 12,
   "metadata": {},
   "outputs": [
    {
     "data": {
      "text/plain": [
       "{603}"
      ]
     },
     "execution_count": 12,
     "metadata": {},
     "output_type": "execute_result"
    }
   ],
   "source": [
    "set(range(min(seats), max(seats)+1)) - seats"
   ]
  },
  {
   "cell_type": "markdown",
   "metadata": {},
   "source": [
    "## Day 6: [Custom Customs](https://adventofcode.com/2020/day/6)\n",
    "Each person's set of answers is on a line. People are grouped. Groups are separated by a blank line. Part 1 asks us to count the number of questions anyone in a group answers \"yes\" to."
   ]
  },
  {
   "cell_type": "code",
   "execution_count": 13,
   "metadata": {},
   "outputs": [
    {
     "data": {
      "text/plain": [
       "6443"
      ]
     },
     "execution_count": 13,
     "metadata": {},
     "output_type": "execute_result"
    }
   ],
   "source": [
    "def answers(group):\n",
    "    return [set(line) for line in group.splitlines()]\n",
    "\n",
    "def total_anyone_answers_yes(all_answers):\n",
    "    return sum(len(set.union(*answers(group))) \n",
    "               for group in all_answers.split('\\n\\n'))\n",
    "\n",
    "example6 = '''\\\n",
    "abc\n",
    "\n",
    "a\n",
    "b\n",
    "c\n",
    "\n",
    "ab\n",
    "ac\n",
    "\n",
    "a\n",
    "a\n",
    "a\n",
    "a\n",
    "\n",
    "b'''\n",
    "\n",
    "assert total_anyone_answers_yes(example6) == 11\n",
    "\n",
    "total_anyone_answers_yes(day(6))"
   ]
  },
  {
   "cell_type": "markdown",
   "metadata": {},
   "source": [
    " Part 1 asks us to count the number of questions _everyone_ in a group answers \"yes\" to."
   ]
  },
  {
   "cell_type": "code",
   "execution_count": 14,
   "metadata": {},
   "outputs": [
    {
     "data": {
      "text/plain": [
       "3232"
      ]
     },
     "execution_count": 14,
     "metadata": {},
     "output_type": "execute_result"
    }
   ],
   "source": [
    "def total_everyone_answers_yes(all_answers):\n",
    "    return sum(len(set.intersection(*answers(group))) \n",
    "               for group in all_answers.split('\\n\\n'))\n",
    "\n",
    "assert total_everyone_answers_yes(example6) == 6\n",
    "total_everyone_answers_yes(day(6))"
   ]
  },
  {
   "cell_type": "markdown",
   "metadata": {},
   "source": [
    "## Day 7: [Handy Haversacks](https://adventofcode.com/2020/day/7)\n",
    "\n",
    "This looks like a graph processing puzzle. We have some luggage processing rules, and we are asked:\n",
    "> You have a shiny gold bag. If you wanted to carry it in at least one other bag, how many different bag colors would be valid for the outermost bag?"
   ]
  },
  {
   "cell_type": "code",
   "execution_count": 15,
   "metadata": {},
   "outputs": [
    {
     "data": {
      "image/png": "[encoded data removed]",
      "text/plain": [
       "<Figure size 432x288 with 1 Axes>"
      ]
     },
     "metadata": {},
     "output_type": "display_data"
    }
   ],
   "source": [
    "example7 = '''\\\n",
    "light red bags contain 1 bright white bag, 2 muted yellow bags.\n",
    "dark orange bags contain 3 bright white bags, 4 muted yellow bags.\n",
    "bright white bags contain 1 shiny gold bag.\n",
    "muted yellow bags contain 2 shiny gold bags, 9 faded blue bags.\n",
    "shiny gold bags contain 1 dark olive bag, 2 vibrant plum bags.\n",
    "dark olive bags contain 3 faded blue bags, 4 dotted black bags.\n",
    "vibrant plum bags contain 5 faded blue bags, 6 dotted black bags.\n",
    "faded blue bags contain no other bags.\n",
    "dotted black bags contain no other bags.'''\n",
    "\n",
    "find_bags = re.compile('(\\w+ \\w+) bag').findall\n",
    "\n",
    "def get_bags_graph(bag_rules):\n",
    "    G = nx.DiGraph()\n",
    "    for rule in bag_rules.splitlines():\n",
    "        bag, *bags = find_bags(rule)\n",
    "        counts = ints(rule)\n",
    "        G.add_edges_from((bag, inner, {'weight': w})\n",
    "                         for inner, w in zip(bags, counts))\n",
    "    return G\n",
    "\n",
    "def draw_bags(G):\n",
    "    pos = nx.circular_layout(G)\n",
    "    nx.draw(G, pos, with_labels=True)\n",
    "    labels = nx.get_edge_attributes(G, 'weight')\n",
    "    nx.draw_networkx_edge_labels(G, pos, edge_labels=labels)\n",
    "\n",
    "exG = get_bags_graph(example7)\n",
    "draw_bags(exG)"
   ]
  },
  {
   "cell_type": "markdown",
   "metadata": {},
   "source": [
    "The first part of the puzzle asks how many bags colours can eventually contain at least one shiny gold bag?"
   ]
  },
  {
   "cell_type": "code",
   "execution_count": 16,
   "metadata": {},
   "outputs": [
    {
     "data": {
      "text/plain": [
       "238"
      ]
     },
     "execution_count": 16,
     "metadata": {},
     "output_type": "execute_result"
    }
   ],
   "source": [
    "assert len(nx.algorithms.dag.ancestors(exG, 'shiny gold'))\n",
    "bagsG = get_bags_graph(day(7))\n",
    "len(nx.algorithms.dag.ancestors(bagsG, 'shiny gold'))"
   ]
  },
  {
   "cell_type": "markdown",
   "metadata": {},
   "source": [
    "Part two asks us to count the number of bags contained in the shiny gold bag."
   ]
  },
  {
   "cell_type": "code",
   "execution_count": 17,
   "metadata": {},
   "outputs": [
    {
     "data": {
      "text/plain": [
       "82930"
      ]
     },
     "execution_count": 17,
     "metadata": {},
     "output_type": "execute_result"
    }
   ],
   "source": [
    "@functools.lru_cache(maxsize=None)\n",
    "def count_bags(G, bag):\n",
    "    return sum(count_bags(G, b) * v['weight'] \n",
    "               for b, v in G[bag].items()) + 1\n",
    "\n",
    "assert count_bags(exG, 'shiny gold') - 1 == 32\n",
    "count_bags(bagsG, 'shiny gold') - 1"
   ]
  },
  {
   "cell_type": "markdown",
   "metadata": {},
   "source": [
    "## Day 8: [Handheld Halting](https://adventofcode.com/2020/day/8)\n",
    "Eight days in, and there's a register machine. We're asked for the accumulator value when the program enters an infinite loop."
   ]
  },
  {
   "cell_type": "code",
   "execution_count": 18,
   "metadata": {},
   "outputs": [
    {
     "data": {
      "text/plain": [
       "1563"
      ]
     },
     "execution_count": 18,
     "metadata": {},
     "output_type": "execute_result"
    }
   ],
   "source": [
    "class Program:\n",
    "    def __init__(self, listing):\n",
    "        'Set up the program using the supplied listing'\n",
    "        self.acc = 0\n",
    "        self.pc = 0\n",
    "        self.instructions = [\n",
    "            self.assemble(line) for line in listing.splitlines()]\n",
    "    \n",
    "    def __str__(self):\n",
    "        return f'pc: {self.pc} acc: {self.acc}'\n",
    "    \n",
    "    def assemble(self, line):\n",
    "        'Return the opcode/value on the supplied line'\n",
    "        return line[:3], int(line[4:])\n",
    "    \n",
    "    def run(self):\n",
    "        'Run the program, generating the program states'\n",
    "        while self.pc in range(len(self.instructions)):\n",
    "            yield self\n",
    "            op, v = self.instructions[self.pc]\n",
    "            if   op == 'nop': self.pc += 1\n",
    "            elif op == 'acc': \n",
    "                self.acc += v; self.pc += 1\n",
    "            elif op == 'jmp': self.pc += v\n",
    "            else: raise RuntimeError(f'invalid op {op}')\n",
    "        yield self\n",
    "\n",
    "example8 = '''\\\n",
    "nop +0\n",
    "acc +1\n",
    "jmp +4\n",
    "acc +3\n",
    "jmp -3\n",
    "acc -99\n",
    "acc +1\n",
    "jmp -4\n",
    "acc +6\n",
    "'''\n",
    "\n",
    "def break_on_loop_or_terminate(prog):\n",
    "    'Run the program until a loop or termination detected'\n",
    "    pcs = set()\n",
    "    for state in Program(prog).run():\n",
    "        if state.pc in pcs:\n",
    "            break\n",
    "        pcs.add(state.pc)\n",
    "    return state\n",
    "\n",
    "assert break_on_loop_or_terminate(example8).acc == 5\n",
    "break_on_loop_or_terminate(day(8)).acc"
   ]
  },
  {
   "cell_type": "markdown",
   "metadata": {},
   "source": [
    "Part two tells us the program terminates cleanly when the program counter (pc) points just past the end of the listing. We are also told an instruction has been corrupted, preventing this. We are asked to decorrupt the program and supply the accumulator value when the program terminates."
   ]
  },
  {
   "cell_type": "code",
   "execution_count": 19,
   "metadata": {},
   "outputs": [
    {
     "data": {
      "text/plain": [
       "767"
      ]
     },
     "execution_count": 19,
     "metadata": {},
     "output_type": "execute_result"
    }
   ],
   "source": [
    "def find_corruption(prog):\n",
    "    'Swap `nop` for `jmp`, returning the state when the program terminates'\n",
    "    N = len(prog.splitlines())\n",
    "    frags = re.split('(nop|jmp)', prog)\n",
    "    for i in range(1, len(frags), 2):\n",
    "        swap = 'nop' if frags[i]=='jmp' else 'jmp'\n",
    "        decorrupt = cat(frags[:i] + [swap] + frags[i+1:])\n",
    "        state = break_on_loop_or_terminate(decorrupt)\n",
    "        if state.pc == N:\n",
    "            return state\n",
    "        \n",
    "assert find_corruption(example8).acc == 8\n",
    "find_corruption(day(8)).acc"
   ]
  },
  {
   "cell_type": "markdown",
   "metadata": {},
   "source": [
    "## Day 9: [Encoding Error](https://adventofcode.com/2020/day/9)\n",
    "\n",
    "We're receiving eXchange-Masking Addition System (XMAS) encrypted data. The data is a stream of numbers, and each number must be the sum of a pair of the preceeding 25 numbers.\n",
    "\n",
    "We are asked to find the first number which does _not_ conform to this scheme."
   ]
  },
  {
   "cell_type": "code",
   "execution_count": 20,
   "metadata": {},
   "outputs": [
    {
     "data": {
      "text/plain": [
       "248131121"
      ]
     },
     "execution_count": 20,
     "metadata": {},
     "output_type": "execute_result"
    }
   ],
   "source": [
    "example9 = '''\\\n",
    "35\n",
    "20\n",
    "15\n",
    "25\n",
    "47\n",
    "40\n",
    "62\n",
    "55\n",
    "65\n",
    "95\n",
    "102\n",
    "117\n",
    "150\n",
    "182\n",
    "127\n",
    "219\n",
    "299\n",
    "277\n",
    "309\n",
    "576'''\n",
    "\n",
    "def xmas_fail(numbers, N=25):\n",
    "    buffer = cs.deque(numbers[:N], maxlen=N)\n",
    "    for n in numbers[N:]:\n",
    "        if all(sum(p) != n for p in its.combinations(buffer, 2)):\n",
    "            return n\n",
    "        buffer.append(n)\n",
    "\n",
    "assert xmas_fail(ints(example9), 5) == 127\n",
    "xmas_fail(ints(day(9)))"
   ]
  },
  {
   "cell_type": "markdown",
   "metadata": {},
   "source": [
    "For part 2, we have to find a contiguous set of numbers in the input which sum to the invalid number found in part 1. The encryption weakness is the sum of the smallest and largest numbers in this range."
   ]
  },
  {
   "cell_type": "code",
   "execution_count": 21,
   "metadata": {},
   "outputs": [
    {
     "data": {
      "text/plain": [
       "31580383"
      ]
     },
     "execution_count": 21,
     "metadata": {},
     "output_type": "execute_result"
    }
   ],
   "source": [
    "def running_sums(numbers):\n",
    "    \"\"\" Generate the running sums of the supplied numbers\n",
    "    \n",
    "    Yields `(s, i, j)` triples, where s is the sum of `numbers[i:j]`\n",
    "    \"\"\"\n",
    "    rsums, n = list(numbers), len(numbers)\n",
    "    for i in range(1, n):\n",
    "        for j in range(n-i):\n",
    "            rsums[j] += numbers[i+j]\n",
    "            yield rsums[j], j, i+j+1\n",
    "\n",
    "def encryption_weakness(numbers, N=25):\n",
    "    invalid_number = xmas_fail(numbers, N)\n",
    "    for rsum, i, j in running_sums(numbers):\n",
    "        if rsum == invalid_number:\n",
    "            return min(numbers[i:j]) + max(numbers[i:j])\n",
    "\n",
    "assert encryption_weakness(ints(example9), 5) == 62\n",
    "encryption_weakness(ints(day(9)))"
   ]
  },
  {
   "cell_type": "markdown",
   "metadata": {},
   "source": [
    "## Day 10: [Adapter Array](https://adventofcode.com/2020/day/10)\n",
    "The input is a list of joltage adapters. Each adaptor is rated for a specific output `J`, and accepts an input 1, 2 or 3 less than `J`. The device to be charged has a rating of 3 higher than the largest adaptor rating. \n",
    "For part 1, we must:\n",
    "> Find a chain that uses all of your adapters to connect the charging outlet to your device's built-in adapter and count the joltage differences between the charging outlet, the adapters, and your device. What is the number of 1-jolt differences multiplied by the number of 3-jolt differences?"
   ]
  },
  {
   "cell_type": "code",
   "execution_count": 22,
   "metadata": {},
   "outputs": [
    {
     "data": {
      "text/plain": [
       "2400"
      ]
     },
     "execution_count": 22,
     "metadata": {},
     "output_type": "execute_result"
    }
   ],
   "source": [
    "example10 = '16 10 15 5 1 11 7 19 6 12 4'\n",
    "example10a = '''28 33 18 42 31 14 46 20 48 47 24 23 49 45 19 38 39 11 1 32 25\n",
    "35 8 17 7 9 4 2 34 10 3'''\n",
    "\n",
    "def count_diffs(adaptor_data):\n",
    "    ratings = sorted(ints(adaptor_data))\n",
    "    seq = [0] + ratings + [ratings[-1]+3]\n",
    "    return cs.Counter(q-p for p, q in pairwise(seq))\n",
    "\n",
    "def day10_part1(adaptor_data):\n",
    "    diffs = count_diffs(adaptor_data)\n",
    "    return diffs[1] * diffs[3]\n",
    "\n",
    "assert day10_part1(example10) == 7 * 5\n",
    "assert day10_part1(example10a) == 22 * 10\n",
    "day10_part1(day(10))"
   ]
  },
  {
   "cell_type": "markdown",
   "metadata": {},
   "source": [
    "Part 2 asks us the number of ways we can connect the charging outlet to our device. We are not required to use all the adaptors. The question hints:\n",
    "> there must be more than a trillion valid ways to arrange them!\n",
    "\n",
    "We can solve this by solving the subproblems: how many ways can we connect a subset of the (sorted) adaptors to the device. We need to use memoisation to store previously calculated results."
   ]
  },
  {
   "cell_type": "code",
   "execution_count": 23,
   "metadata": {},
   "outputs": [
    {
     "data": {
      "text/plain": [
       "338510590509056"
      ]
     },
     "execution_count": 23,
     "metadata": {},
     "output_type": "execute_result"
    }
   ],
   "source": [
    "def day10_part2(adaptor_data):\n",
    "    ratings = [0] + sorted(ints(adaptor_data))\n",
    "    N = len(ratings)\n",
    "    @functools.lru_cache(maxsize=None)\n",
    "    def subproblem(i):\n",
    "        if i == N-1:\n",
    "            return 1 # final adaptor - no choice\n",
    "        else:\n",
    "            # look at the next three items \n",
    "            return sum(subproblem(j) \n",
    "                for j in range(i+1, min(i+4, N))\n",
    "                if ratings[j] - ratings[i] <= 3)\n",
    "    return subproblem(0)\n",
    "\n",
    "assert day10_part2(example10) == 8\n",
    "assert day10_part2(example10a) == 19208\n",
    "day10_part2(day(10))"
   ]
  },
  {
   "cell_type": "markdown",
   "metadata": {},
   "source": [
    "## Day 11: [Seating System](https://adventofcode.com/2020/day/11)\n",
    "Seat occupancy in a waiting area is modelled by a finite state automata:\n",
    "- If a seat is empty (L) and there are no occupied seats adjacent to it, the seat becomes occupied.\n",
    "- If a seat is occupied (#) and four or more seats adjacent to it are also occupied, the seat becomes empty.\n",
    "- Otherwise, the seat's state does not change.\n",
    "For part 1, we are asked to apply these rules until the seat occupancy stabilised. How many seats end up occupied?"
   ]
  },
  {
   "cell_type": "code",
   "execution_count": 24,
   "metadata": {},
   "outputs": [
    {
     "data": {
      "text/plain": [
       "2412"
      ]
     },
     "execution_count": 24,
     "metadata": {},
     "output_type": "execute_result"
    }
   ],
   "source": [
    "def seat_occupancy(seat_data):\n",
    "    occupancy = {\n",
    "        (r, c): ch \n",
    "        for r, row in enumerate(seat_data.split())\n",
    "        for c, ch in enumerate(row)\n",
    "    }\n",
    "    def evolve(p):\n",
    "        c = sum(occupancy.get(n) == '#' for n in neighbours8(*p))\n",
    "        if occupancy[p] == 'L':\n",
    "            if c == 0: return '#'\n",
    "        elif occupancy[p] == '#':\n",
    "            if c >= 4: return 'L'\n",
    "        return occupancy[p]\n",
    "    while True:\n",
    "        yield occupancy\n",
    "        occupancy = {p: evolve(p) for p in occupancy}\n",
    "\n",
    "def stable_seating(seat_data):\n",
    "    prev = {}\n",
    "    for s in seat_occupancy(seat_data):\n",
    "        if s == prev:\n",
    "            return s\n",
    "        prev = s\n",
    "\n",
    "example11 = '''\\\n",
    "L.LL.LL.LL\n",
    "LLLLLLL.LL\n",
    "L.L.L..L..\n",
    "LLLL.LL.LL\n",
    "L.LL.LL.LL\n",
    "L.LLLLL.LL\n",
    "..L.L.....\n",
    "LLLLLLLLLL\n",
    "L.LLLLLL.L\n",
    "L.LLLLL.LL\n",
    "'''\n",
    "assert sum(o == '#' for o in stable_seating(example11).values()) == 37\n",
    "sum(o == '#' for o in stable_seating(day(11)).values())"
   ]
  },
  {
   "cell_type": "markdown",
   "metadata": {},
   "source": [
    "Part two changes the evolution rules: the neighbours are the next `#` or `L` seats in the eight directions, and the number used to switch from `#` to `L` for an occupied seat changes to `5`."
   ]
  },
  {
   "cell_type": "code",
   "execution_count": 25,
   "metadata": {},
   "outputs": [
    {
     "data": {
      "text/plain": [
       "2176"
      ]
     },
     "execution_count": 25,
     "metadata": {},
     "output_type": "execute_result"
    }
   ],
   "source": [
    "def seat_occupancy(seat_data):\n",
    "    occupancy = {\n",
    "        r + c * 1j: ch \n",
    "        for r, row in enumerate(seat_data.split())\n",
    "        for c, ch in enumerate(row)\n",
    "    }\n",
    "    def next_occupied(p, d):\n",
    "        steps = (p + s * d for s in its.count(1))\n",
    "        return next(c for s in steps\n",
    "                    if (c := occupancy.get(s, ' ')) in ' L#')\n",
    "    def next_seats(p):\n",
    "        dir8 = (1, 1+1j, 1j, 1j-1, -1, -1-1j, -1j, 1-1j)\n",
    "        return (next_occupied(p, d) for d in dir8)\n",
    "    def evolve(p):\n",
    "        c = sum(s == '#' for s in next_seats(p))\n",
    "        if occupancy[p] == 'L':\n",
    "            if c == 0: return '#'\n",
    "        elif occupancy[p] == '#':\n",
    "            if c >= 5: return 'L'\n",
    "        return occupancy[p]\n",
    "    while True:\n",
    "        yield occupancy\n",
    "        occupancy = {p: evolve(p) for p in occupancy}\n",
    "\n",
    "def stable_seating(seat_data):\n",
    "    prev = {}\n",
    "    for s in seat_occupancy(seat_data):\n",
    "        dump = cat(s.values())\n",
    "        if s == prev:\n",
    "            return s\n",
    "        prev = s\n",
    "\n",
    "assert sum(o == '#' for o in stable_seating(example11).values()) == 26\n",
    "sum(o == '#' for o in stable_seating(day(11)).values())"
   ]
  },
  {
   "cell_type": "markdown",
   "metadata": {},
   "source": [
    "## Day 12: [Rain Risk](https://adventofcode.com/2020/day/12)\n",
    "We follow a rectilinear route described by a series of instructions. Each instruction has an action (N, S, E, W, L, R, F) and a value, and cause the ship to move in a compass direction, turn a number of degrees, or advance in the direction it faces."
   ]
  },
  {
   "cell_type": "code",
   "execution_count": 26,
   "metadata": {},
   "outputs": [
    {
     "data": {
      "text/plain": [
       "879.0"
      ]
     },
     "execution_count": 26,
     "metadata": {},
     "output_type": "execute_result"
    }
   ],
   "source": [
    "def parse_instruction(line):\n",
    "    return line[:1], int(line[1:])\n",
    "\n",
    "def ship_position(instructions):\n",
    "    'Return the ship position after following the instructions'\n",
    "    ship, dirn = 0, 1\n",
    "    step = {'N':1j, 'W':-1, 'S':-1j, 'E': 1}\n",
    "    turn = {'R':-1j, 'L':1j}\n",
    "    for action, n in map(parse_instruction, instructions.split()):\n",
    "        ship += n * (step.get(action, 0) + (action=='F') * dirn)\n",
    "        dirn *= turn.get(action, 1) ** (n//90)\n",
    "    return ship\n",
    "\n",
    "ship = ship_position('F10 N3 F7 R90 F11')\n",
    "assert manhattan_distance(ship) == 25\n",
    "manhattan_distance(ship_position(day(12)))"
   ]
  },
  {
   "cell_type": "markdown",
   "metadata": {},
   "source": [
    "Part two reinterprets the instructions, which now indicate how to move a waypoint which is relative to the ship's position:\n",
    "- Action N means to move the waypoint north by the given value.\n",
    "- Action S means to move the waypoint south by the given value.\n",
    "- Action E means to move the waypoint east by the given value.\n",
    "- Action W means to move the waypoint west by the given value.\n",
    "- Action L means to rotate the waypoint around the ship left (counter-clockwise) the given number of degrees.\n",
    "- Action R means to rotate the waypoint around the ship right (clockwise) the given number of degrees.\n",
    "- Action F means to move forward to the waypoint a number of times equal to the given value.\n"
   ]
  },
  {
   "cell_type": "code",
   "execution_count": 27,
   "metadata": {},
   "outputs": [
    {
     "data": {
      "text/plain": [
       "18107.0"
      ]
     },
     "execution_count": 27,
     "metadata": {},
     "output_type": "execute_result"
    }
   ],
   "source": [
    "def ship_positions2(instructions):\n",
    "    'Return the ship position after following the instructions'\n",
    "    ship, waypoint, dir = 0, 10 + 1j, 1\n",
    "    step = {'N':1j, 'W':-1, 'S':-1j, 'E': 1}\n",
    "    turn = {'R':-1j, 'L':1j}\n",
    "    for action, n in map(parse_instruction, instructions.split()):\n",
    "        waypoint += n * step.get(action, 0)\n",
    "        waypoint *= turn.get(action, 1) ** (n//90)\n",
    "        ship += (action == 'F') * waypoint * n\n",
    "    return ship\n",
    "\n",
    "ship = ship_positions2('F10 N3 F7 R90 F11')\n",
    "assert manhattan_distance(ship) == 286\n",
    "manhattan_distance(ship_positions2(day(12)))"
   ]
  },
  {
   "cell_type": "markdown",
   "metadata": {},
   "source": [
    "## Day 13: [Shuttle Search](https://adventofcode.com/2020/day/13)\n",
    "Buses circle round the island. Each bus has an ID, which is also the number of minutes it takes for each circuit. Which is the first one we can take, given our arrival time?"
   ]
  },
  {
   "cell_type": "code",
   "execution_count": 28,
   "metadata": {},
   "outputs": [
    {
     "data": {
      "text/plain": [
       "3865"
      ]
     },
     "execution_count": 28,
     "metadata": {},
     "output_type": "execute_result"
    }
   ],
   "source": [
    "def shuttle_search(bus_data):\n",
    "    \"Return the ID of the first bus multiplied by the time we wait for it\"\n",
    "    arrival_time, *buses = ints(bus_data)\n",
    "    key = lambda bus: bus - arrival_time % bus\n",
    "    bus = min(buses, key=key)\n",
    "    return bus * key(bus)\n",
    "\n",
    "assert shuttle_search('939 7,13,x,x,59,x,31,19') == 295\n",
    "shuttle_search(day(13))"
   ]
  },
  {
   "cell_type": "markdown",
   "metadata": {},
   "source": [
    "Part two reinterprets the input data. The first number is ignored. We are asked to find the smallest timestamp `T` such that `T % B[i]` is `B[i] - i` for all `i` for which `B[i] != x`. \n",
    "\n",
    "Since the bus IDs look to be coprime, we can apply the Chinese remainder theorem."
   ]
  },
  {
   "cell_type": "code",
   "execution_count": 29,
   "metadata": {},
   "outputs": [
    {
     "data": {
      "text/plain": [
       "415579909629976"
      ]
     },
     "execution_count": 29,
     "metadata": {},
     "output_type": "execute_result"
    }
   ],
   "source": [
    "def chinese_remainder(ns_rs):\n",
    "    'Return the smallest `N` such that `N % n == r` for all (n, r)'\n",
    "    result = 0\n",
    "    product = math.prod(n for n, _ in ns_rs)\n",
    "    for n, r in ns_rs:\n",
    "        p = product // n\n",
    "        result += r * mul_inv(p, n) * p\n",
    "    return result % product\n",
    "\n",
    "def mul_inv(a, b):\n",
    "    'Return the multiplicative inverse of a modulo b'\n",
    "    # Find `r` such that `(a*r) % b == 1`\n",
    "    return pow(a, -1, mod=b)\n",
    "\n",
    "def earliest_timestamp(bus_data):\n",
    "    buses = bus_data.split()[1].split(',')\n",
    "    return chinese_remainder(\n",
    "        [(int(bus), int(bus) - i)\n",
    "        for i, bus in enumerate(buses) if bus != 'x'])\n",
    "\n",
    "assert earliest_timestamp('939 7,13,x,x,59,x,31,19') == 1068781\n",
    "earliest_timestamp(day(13))"
   ]
  },
  {
   "cell_type": "markdown",
   "metadata": {},
   "source": [
    "## Day 14: [Docking Data](https://adventofcode.com/2020/day/14)\n",
    "This one is all about bitwise operations. We are given a program which repeatedly sets a mask and then stores values, applying that mask."
   ]
  },
  {
   "cell_type": "code",
   "execution_count": 33,
   "metadata": {},
   "outputs": [
    {
     "data": {
      "text/plain": [
       "7440382076205"
      ]
     },
     "execution_count": 33,
     "metadata": {},
     "output_type": "execute_result"
    }
   ],
   "source": [
    "xs_bits = str.maketrans('1X', '01')\n",
    "\n",
    "def run_program(prog):\n",
    "    memory = {}\n",
    "    for line in prog.splitlines():\n",
    "        if line.startswith('mask'):\n",
    "            _, _, mask = line.split()\n",
    "            xs = int(mask.translate(xs_bits), base=2)\n",
    "            or_ = int(mask.replace('X', '0'), base=2)\n",
    "        else:\n",
    "            address, store = ints(line)\n",
    "            memory[address] = store & xs | or_\n",
    "    return memory\n",
    "\n",
    "example14 = '''\\\n",
    "mask = XXXXXXXXXXXXXXXXXXXXXXXXXXXXX1XXXX0X\n",
    "mem[8] = 11\n",
    "mem[7] = 101\n",
    "mem[8] = 0'''\n",
    "\n",
    "assert sum(run_program(example14).values()) == 165\n",
    "sum(run_program(day(14)).values())"
   ]
  },
  {
   "cell_type": "markdown",
   "metadata": {},
   "source": [
    "Part two, the mask is applied to the address, and the Xs denote \"floating\" bits -- ones which take values 0 and 1."
   ]
  },
  {
   "cell_type": "code",
   "execution_count": 34,
   "metadata": {},
   "outputs": [
    {
     "data": {
      "text/plain": [
       "4200656704538"
      ]
     },
     "execution_count": 34,
     "metadata": {},
     "output_type": "execute_result"
    }
   ],
   "source": [
    "def run_program2(prog):\n",
    "    memory = {}\n",
    "    for line in prog.splitlines():\n",
    "        if line.startswith('mask'):\n",
    "            _, _, mask = line.split()\n",
    "            xs = int(mask.translate(xs_bits), base=2)\n",
    "            or_ = int(mask.replace('X', '0'), base=2)\n",
    "            p2 = [1<<s for s, v in enumerate(mask[::-1]) if v=='X']\n",
    "            offsets = [sum(p) for p in powerset(p2)]\n",
    "        else:\n",
    "            address, store = ints(line)\n",
    "            address = address & ~xs | or_\n",
    "            memory.update((address|sum(p), store) for p in powerset(p2))\n",
    "    return memory\n",
    "\n",
    "example14_2 = '''\\\n",
    "mask = 000000000000000000000000000000X1001X\n",
    "mem[42] = 100\n",
    "mask = 00000000000000000000000000000000X0XX\n",
    "mem[26] = 1'''\n",
    "\n",
    "assert sum(run_program2(example14_2).values()) == 208\n",
    "sum(run_program2(day(14)).values())"
   ]
  },
  {
   "cell_type": "code",
   "execution_count": null,
   "metadata": {},
   "outputs": [],
   "source": []
  }
 ],
 "metadata": {
  "kernelspec": {
   "display_name": "Python 3",
   "language": "python",
   "name": "python3"
  },
  "language_info": {
   "codemirror_mode": {
    "name": "ipython",
    "version": 3
   },
   "file_extension": ".py",
   "mimetype": "text/x-python",
   "name": "python",
   "nbconvert_exporter": "python",
   "pygments_lexer": "ipython3",
   "version": "3.8.5"
  }
 },
 "nbformat": 4,
 "nbformat_minor": 4
}
